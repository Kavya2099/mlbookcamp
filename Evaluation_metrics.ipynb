{
  "nbformat": 4,
  "nbformat_minor": 0,
  "metadata": {
    "colab": {
      "provenance": [],
      "collapsed_sections": [],
      "authorship_tag": "ABX9TyN4V0um8h97Y1lCVxX+am8l",
      "include_colab_link": true
    },
    "kernelspec": {
      "name": "python3",
      "display_name": "Python 3"
    },
    "language_info": {
      "name": "python"
    }
  },
  "cells": [
    {
      "cell_type": "markdown",
      "metadata": {
        "id": "view-in-github",
        "colab_type": "text"
      },
      "source": [
        "<a href=\"https://colab.research.google.com/github/Kavya2099/mlbookcamp/blob/model-predictions/Evaluation_metrics.ipynb\" target=\"_parent\"><img src=\"https://colab.research.google.com/assets/colab-badge.svg\" alt=\"Open In Colab\"/></a>"
      ]
    },
    {
      "cell_type": "markdown",
      "source": [
        "get data"
      ],
      "metadata": {
        "id": "sphdWYiI5mXF"
      }
    },
    {
      "cell_type": "code",
      "execution_count": null,
      "metadata": {
        "id": "N3ZXiswu1HrF",
        "colab": {
          "base_uri": "https://localhost:8080/",
          "height": 589
        },
        "outputId": "596bc74c-4d82-4370-e4e6-c50ec4d5a92e"
      },
      "outputs": [
        {
          "output_type": "stream",
          "name": "stdout",
          "text": [
            "--2022-10-04 05:51:29--  https://raw.githubusercontent.com/alexeygrigorev/mlbookcamp-code/master/chapter-03-churn-prediction/WA_Fn-UseC_-Telco-Customer-Churn.csv\n",
            "Resolving raw.githubusercontent.com (raw.githubusercontent.com)... 185.199.108.133, 185.199.110.133, 185.199.111.133, ...\n",
            "Connecting to raw.githubusercontent.com (raw.githubusercontent.com)|185.199.108.133|:443... connected.\n",
            "HTTP request sent, awaiting response... 200 OK\n",
            "Length: 977501 (955K) [text/plain]\n",
            "Saving to: ‘data-week-3.csv’\n",
            "\n",
            "data-week-3.csv     100%[===================>] 954.59K  --.-KB/s    in 0.03s   \n",
            "\n",
            "2022-10-04 05:51:29 (28.2 MB/s) - ‘data-week-3.csv’ saved [977501/977501]\n",
            "\n"
          ]
        },
        {
          "output_type": "execute_result",
          "data": {
            "text/plain": [
              "   customerID  gender  SeniorCitizen Partner Dependents  tenure PhoneService  \\\n",
              "0  7590-VHVEG  Female              0     Yes         No       1           No   \n",
              "1  5575-GNVDE    Male              0      No         No      34          Yes   \n",
              "2  3668-QPYBK    Male              0      No         No       2          Yes   \n",
              "3  7795-CFOCW    Male              0      No         No      45           No   \n",
              "4  9237-HQITU  Female              0      No         No       2          Yes   \n",
              "\n",
              "      MultipleLines InternetService OnlineSecurity  ... DeviceProtection  \\\n",
              "0  No phone service             DSL             No  ...               No   \n",
              "1                No             DSL            Yes  ...              Yes   \n",
              "2                No             DSL            Yes  ...               No   \n",
              "3  No phone service             DSL            Yes  ...              Yes   \n",
              "4                No     Fiber optic             No  ...               No   \n",
              "\n",
              "  TechSupport StreamingTV StreamingMovies        Contract PaperlessBilling  \\\n",
              "0          No          No              No  Month-to-month              Yes   \n",
              "1          No          No              No        One year               No   \n",
              "2          No          No              No  Month-to-month              Yes   \n",
              "3         Yes          No              No        One year               No   \n",
              "4          No          No              No  Month-to-month              Yes   \n",
              "\n",
              "               PaymentMethod MonthlyCharges  TotalCharges Churn  \n",
              "0           Electronic check          29.85         29.85    No  \n",
              "1               Mailed check          56.95        1889.5    No  \n",
              "2               Mailed check          53.85        108.15   Yes  \n",
              "3  Bank transfer (automatic)          42.30       1840.75    No  \n",
              "4           Electronic check          70.70        151.65   Yes  \n",
              "\n",
              "[5 rows x 21 columns]"
            ],
            "text/html": [
              "\n",
              "  <div id=\"df-b80166d5-374a-4d54-9bec-eca0147a671e\">\n",
              "    <div class=\"colab-df-container\">\n",
              "      <div>\n",
              "<style scoped>\n",
              "    .dataframe tbody tr th:only-of-type {\n",
              "        vertical-align: middle;\n",
              "    }\n",
              "\n",
              "    .dataframe tbody tr th {\n",
              "        vertical-align: top;\n",
              "    }\n",
              "\n",
              "    .dataframe thead th {\n",
              "        text-align: right;\n",
              "    }\n",
              "</style>\n",
              "<table border=\"1\" class=\"dataframe\">\n",
              "  <thead>\n",
              "    <tr style=\"text-align: right;\">\n",
              "      <th></th>\n",
              "      <th>customerID</th>\n",
              "      <th>gender</th>\n",
              "      <th>SeniorCitizen</th>\n",
              "      <th>Partner</th>\n",
              "      <th>Dependents</th>\n",
              "      <th>tenure</th>\n",
              "      <th>PhoneService</th>\n",
              "      <th>MultipleLines</th>\n",
              "      <th>InternetService</th>\n",
              "      <th>OnlineSecurity</th>\n",
              "      <th>...</th>\n",
              "      <th>DeviceProtection</th>\n",
              "      <th>TechSupport</th>\n",
              "      <th>StreamingTV</th>\n",
              "      <th>StreamingMovies</th>\n",
              "      <th>Contract</th>\n",
              "      <th>PaperlessBilling</th>\n",
              "      <th>PaymentMethod</th>\n",
              "      <th>MonthlyCharges</th>\n",
              "      <th>TotalCharges</th>\n",
              "      <th>Churn</th>\n",
              "    </tr>\n",
              "  </thead>\n",
              "  <tbody>\n",
              "    <tr>\n",
              "      <th>0</th>\n",
              "      <td>7590-VHVEG</td>\n",
              "      <td>Female</td>\n",
              "      <td>0</td>\n",
              "      <td>Yes</td>\n",
              "      <td>No</td>\n",
              "      <td>1</td>\n",
              "      <td>No</td>\n",
              "      <td>No phone service</td>\n",
              "      <td>DSL</td>\n",
              "      <td>No</td>\n",
              "      <td>...</td>\n",
              "      <td>No</td>\n",
              "      <td>No</td>\n",
              "      <td>No</td>\n",
              "      <td>No</td>\n",
              "      <td>Month-to-month</td>\n",
              "      <td>Yes</td>\n",
              "      <td>Electronic check</td>\n",
              "      <td>29.85</td>\n",
              "      <td>29.85</td>\n",
              "      <td>No</td>\n",
              "    </tr>\n",
              "    <tr>\n",
              "      <th>1</th>\n",
              "      <td>5575-GNVDE</td>\n",
              "      <td>Male</td>\n",
              "      <td>0</td>\n",
              "      <td>No</td>\n",
              "      <td>No</td>\n",
              "      <td>34</td>\n",
              "      <td>Yes</td>\n",
              "      <td>No</td>\n",
              "      <td>DSL</td>\n",
              "      <td>Yes</td>\n",
              "      <td>...</td>\n",
              "      <td>Yes</td>\n",
              "      <td>No</td>\n",
              "      <td>No</td>\n",
              "      <td>No</td>\n",
              "      <td>One year</td>\n",
              "      <td>No</td>\n",
              "      <td>Mailed check</td>\n",
              "      <td>56.95</td>\n",
              "      <td>1889.5</td>\n",
              "      <td>No</td>\n",
              "    </tr>\n",
              "    <tr>\n",
              "      <th>2</th>\n",
              "      <td>3668-QPYBK</td>\n",
              "      <td>Male</td>\n",
              "      <td>0</td>\n",
              "      <td>No</td>\n",
              "      <td>No</td>\n",
              "      <td>2</td>\n",
              "      <td>Yes</td>\n",
              "      <td>No</td>\n",
              "      <td>DSL</td>\n",
              "      <td>Yes</td>\n",
              "      <td>...</td>\n",
              "      <td>No</td>\n",
              "      <td>No</td>\n",
              "      <td>No</td>\n",
              "      <td>No</td>\n",
              "      <td>Month-to-month</td>\n",
              "      <td>Yes</td>\n",
              "      <td>Mailed check</td>\n",
              "      <td>53.85</td>\n",
              "      <td>108.15</td>\n",
              "      <td>Yes</td>\n",
              "    </tr>\n",
              "    <tr>\n",
              "      <th>3</th>\n",
              "      <td>7795-CFOCW</td>\n",
              "      <td>Male</td>\n",
              "      <td>0</td>\n",
              "      <td>No</td>\n",
              "      <td>No</td>\n",
              "      <td>45</td>\n",
              "      <td>No</td>\n",
              "      <td>No phone service</td>\n",
              "      <td>DSL</td>\n",
              "      <td>Yes</td>\n",
              "      <td>...</td>\n",
              "      <td>Yes</td>\n",
              "      <td>Yes</td>\n",
              "      <td>No</td>\n",
              "      <td>No</td>\n",
              "      <td>One year</td>\n",
              "      <td>No</td>\n",
              "      <td>Bank transfer (automatic)</td>\n",
              "      <td>42.30</td>\n",
              "      <td>1840.75</td>\n",
              "      <td>No</td>\n",
              "    </tr>\n",
              "    <tr>\n",
              "      <th>4</th>\n",
              "      <td>9237-HQITU</td>\n",
              "      <td>Female</td>\n",
              "      <td>0</td>\n",
              "      <td>No</td>\n",
              "      <td>No</td>\n",
              "      <td>2</td>\n",
              "      <td>Yes</td>\n",
              "      <td>No</td>\n",
              "      <td>Fiber optic</td>\n",
              "      <td>No</td>\n",
              "      <td>...</td>\n",
              "      <td>No</td>\n",
              "      <td>No</td>\n",
              "      <td>No</td>\n",
              "      <td>No</td>\n",
              "      <td>Month-to-month</td>\n",
              "      <td>Yes</td>\n",
              "      <td>Electronic check</td>\n",
              "      <td>70.70</td>\n",
              "      <td>151.65</td>\n",
              "      <td>Yes</td>\n",
              "    </tr>\n",
              "  </tbody>\n",
              "</table>\n",
              "<p>5 rows × 21 columns</p>\n",
              "</div>\n",
              "      <button class=\"colab-df-convert\" onclick=\"convertToInteractive('df-b80166d5-374a-4d54-9bec-eca0147a671e')\"\n",
              "              title=\"Convert this dataframe to an interactive table.\"\n",
              "              style=\"display:none;\">\n",
              "        \n",
              "  <svg xmlns=\"http://www.w3.org/2000/svg\" height=\"24px\"viewBox=\"0 0 24 24\"\n",
              "       width=\"24px\">\n",
              "    <path d=\"M0 0h24v24H0V0z\" fill=\"none\"/>\n",
              "    <path d=\"M18.56 5.44l.94 2.06.94-2.06 2.06-.94-2.06-.94-.94-2.06-.94 2.06-2.06.94zm-11 1L8.5 8.5l.94-2.06 2.06-.94-2.06-.94L8.5 2.5l-.94 2.06-2.06.94zm10 10l.94 2.06.94-2.06 2.06-.94-2.06-.94-.94-2.06-.94 2.06-2.06.94z\"/><path d=\"M17.41 7.96l-1.37-1.37c-.4-.4-.92-.59-1.43-.59-.52 0-1.04.2-1.43.59L10.3 9.45l-7.72 7.72c-.78.78-.78 2.05 0 2.83L4 21.41c.39.39.9.59 1.41.59.51 0 1.02-.2 1.41-.59l7.78-7.78 2.81-2.81c.8-.78.8-2.07 0-2.86zM5.41 20L4 18.59l7.72-7.72 1.47 1.35L5.41 20z\"/>\n",
              "  </svg>\n",
              "      </button>\n",
              "      \n",
              "  <style>\n",
              "    .colab-df-container {\n",
              "      display:flex;\n",
              "      flex-wrap:wrap;\n",
              "      gap: 12px;\n",
              "    }\n",
              "\n",
              "    .colab-df-convert {\n",
              "      background-color: #E8F0FE;\n",
              "      border: none;\n",
              "      border-radius: 50%;\n",
              "      cursor: pointer;\n",
              "      display: none;\n",
              "      fill: #1967D2;\n",
              "      height: 32px;\n",
              "      padding: 0 0 0 0;\n",
              "      width: 32px;\n",
              "    }\n",
              "\n",
              "    .colab-df-convert:hover {\n",
              "      background-color: #E2EBFA;\n",
              "      box-shadow: 0px 1px 2px rgba(60, 64, 67, 0.3), 0px 1px 3px 1px rgba(60, 64, 67, 0.15);\n",
              "      fill: #174EA6;\n",
              "    }\n",
              "\n",
              "    [theme=dark] .colab-df-convert {\n",
              "      background-color: #3B4455;\n",
              "      fill: #D2E3FC;\n",
              "    }\n",
              "\n",
              "    [theme=dark] .colab-df-convert:hover {\n",
              "      background-color: #434B5C;\n",
              "      box-shadow: 0px 1px 3px 1px rgba(0, 0, 0, 0.15);\n",
              "      filter: drop-shadow(0px 1px 2px rgba(0, 0, 0, 0.3));\n",
              "      fill: #FFFFFF;\n",
              "    }\n",
              "  </style>\n",
              "\n",
              "      <script>\n",
              "        const buttonEl =\n",
              "          document.querySelector('#df-b80166d5-374a-4d54-9bec-eca0147a671e button.colab-df-convert');\n",
              "        buttonEl.style.display =\n",
              "          google.colab.kernel.accessAllowed ? 'block' : 'none';\n",
              "\n",
              "        async function convertToInteractive(key) {\n",
              "          const element = document.querySelector('#df-b80166d5-374a-4d54-9bec-eca0147a671e');\n",
              "          const dataTable =\n",
              "            await google.colab.kernel.invokeFunction('convertToInteractive',\n",
              "                                                     [key], {});\n",
              "          if (!dataTable) return;\n",
              "\n",
              "          const docLinkHtml = 'Like what you see? Visit the ' +\n",
              "            '<a target=\"_blank\" href=https://colab.research.google.com/notebooks/data_table.ipynb>data table notebook</a>'\n",
              "            + ' to learn more about interactive tables.';\n",
              "          element.innerHTML = '';\n",
              "          dataTable['output_type'] = 'display_data';\n",
              "          await google.colab.output.renderOutput(dataTable, element);\n",
              "          const docLink = document.createElement('div');\n",
              "          docLink.innerHTML = docLinkHtml;\n",
              "          element.appendChild(docLink);\n",
              "        }\n",
              "      </script>\n",
              "    </div>\n",
              "  </div>\n",
              "  "
            ]
          },
          "metadata": {},
          "execution_count": 1
        }
      ],
      "source": [
        "%matplotlib inline\n",
        "\n",
        "import pandas as pd\n",
        "import numpy as np\n",
        "import matplotlib.pyplot as plt\n",
        "import seaborn as sns\n",
        "\n",
        "import warnings\n",
        "warnings.filterwarnings(\"ignore\")\n",
        "\n",
        "data = 'https://raw.githubusercontent.com/alexeygrigorev/mlbookcamp-code/master/chapter-03-churn-prediction/WA_Fn-UseC_-Telco-Customer-Churn.csv'\n",
        "\n",
        "!wget $data -O data-week-3.csv \n",
        "\n",
        "df= pd.read_csv('data-week-3.csv')\n",
        "\n",
        "df.head()"
      ]
    },
    {
      "cell_type": "code",
      "source": [
        "df.shape\n",
        "\n",
        "df.columns= df.columns.str.replace(\" \",\"_\").str.lower()\n",
        "df.columns\n",
        "\n",
        "strings= list(df.dtypes[df.dtypes=='object'].index)\n",
        "\n",
        "for col in strings:\n",
        "  df[col]= df[col].str.replace(\" \",\"_\").str.lower()\n",
        "\n",
        "df.head()"
      ],
      "metadata": {
        "colab": {
          "base_uri": "https://localhost:8080/",
          "height": 351
        },
        "id": "zKmzo1iR6ye_",
        "outputId": "a0a28ac5-0771-4c72-8ae8-94ec95790c4b"
      },
      "execution_count": null,
      "outputs": [
        {
          "output_type": "execute_result",
          "data": {
            "text/plain": [
              "   customerid  gender  seniorcitizen partner dependents  tenure phoneservice  \\\n",
              "0  7590-vhveg  female              0     yes         no       1           no   \n",
              "1  5575-gnvde    male              0      no         no      34          yes   \n",
              "2  3668-qpybk    male              0      no         no       2          yes   \n",
              "3  7795-cfocw    male              0      no         no      45           no   \n",
              "4  9237-hqitu  female              0      no         no       2          yes   \n",
              "\n",
              "      multiplelines internetservice onlinesecurity  ... deviceprotection  \\\n",
              "0  no_phone_service             dsl             no  ...               no   \n",
              "1                no             dsl            yes  ...              yes   \n",
              "2                no             dsl            yes  ...               no   \n",
              "3  no_phone_service             dsl            yes  ...              yes   \n",
              "4                no     fiber_optic             no  ...               no   \n",
              "\n",
              "  techsupport streamingtv streamingmovies        contract paperlessbilling  \\\n",
              "0          no          no              no  month-to-month              yes   \n",
              "1          no          no              no        one_year               no   \n",
              "2          no          no              no  month-to-month              yes   \n",
              "3         yes          no              no        one_year               no   \n",
              "4          no          no              no  month-to-month              yes   \n",
              "\n",
              "               paymentmethod monthlycharges  totalcharges churn  \n",
              "0           electronic_check          29.85         29.85    no  \n",
              "1               mailed_check          56.95        1889.5    no  \n",
              "2               mailed_check          53.85        108.15   yes  \n",
              "3  bank_transfer_(automatic)          42.30       1840.75    no  \n",
              "4           electronic_check          70.70        151.65   yes  \n",
              "\n",
              "[5 rows x 21 columns]"
            ],
            "text/html": [
              "\n",
              "  <div id=\"df-ec537d21-db35-4957-b192-9c67add847b6\">\n",
              "    <div class=\"colab-df-container\">\n",
              "      <div>\n",
              "<style scoped>\n",
              "    .dataframe tbody tr th:only-of-type {\n",
              "        vertical-align: middle;\n",
              "    }\n",
              "\n",
              "    .dataframe tbody tr th {\n",
              "        vertical-align: top;\n",
              "    }\n",
              "\n",
              "    .dataframe thead th {\n",
              "        text-align: right;\n",
              "    }\n",
              "</style>\n",
              "<table border=\"1\" class=\"dataframe\">\n",
              "  <thead>\n",
              "    <tr style=\"text-align: right;\">\n",
              "      <th></th>\n",
              "      <th>customerid</th>\n",
              "      <th>gender</th>\n",
              "      <th>seniorcitizen</th>\n",
              "      <th>partner</th>\n",
              "      <th>dependents</th>\n",
              "      <th>tenure</th>\n",
              "      <th>phoneservice</th>\n",
              "      <th>multiplelines</th>\n",
              "      <th>internetservice</th>\n",
              "      <th>onlinesecurity</th>\n",
              "      <th>...</th>\n",
              "      <th>deviceprotection</th>\n",
              "      <th>techsupport</th>\n",
              "      <th>streamingtv</th>\n",
              "      <th>streamingmovies</th>\n",
              "      <th>contract</th>\n",
              "      <th>paperlessbilling</th>\n",
              "      <th>paymentmethod</th>\n",
              "      <th>monthlycharges</th>\n",
              "      <th>totalcharges</th>\n",
              "      <th>churn</th>\n",
              "    </tr>\n",
              "  </thead>\n",
              "  <tbody>\n",
              "    <tr>\n",
              "      <th>0</th>\n",
              "      <td>7590-vhveg</td>\n",
              "      <td>female</td>\n",
              "      <td>0</td>\n",
              "      <td>yes</td>\n",
              "      <td>no</td>\n",
              "      <td>1</td>\n",
              "      <td>no</td>\n",
              "      <td>no_phone_service</td>\n",
              "      <td>dsl</td>\n",
              "      <td>no</td>\n",
              "      <td>...</td>\n",
              "      <td>no</td>\n",
              "      <td>no</td>\n",
              "      <td>no</td>\n",
              "      <td>no</td>\n",
              "      <td>month-to-month</td>\n",
              "      <td>yes</td>\n",
              "      <td>electronic_check</td>\n",
              "      <td>29.85</td>\n",
              "      <td>29.85</td>\n",
              "      <td>no</td>\n",
              "    </tr>\n",
              "    <tr>\n",
              "      <th>1</th>\n",
              "      <td>5575-gnvde</td>\n",
              "      <td>male</td>\n",
              "      <td>0</td>\n",
              "      <td>no</td>\n",
              "      <td>no</td>\n",
              "      <td>34</td>\n",
              "      <td>yes</td>\n",
              "      <td>no</td>\n",
              "      <td>dsl</td>\n",
              "      <td>yes</td>\n",
              "      <td>...</td>\n",
              "      <td>yes</td>\n",
              "      <td>no</td>\n",
              "      <td>no</td>\n",
              "      <td>no</td>\n",
              "      <td>one_year</td>\n",
              "      <td>no</td>\n",
              "      <td>mailed_check</td>\n",
              "      <td>56.95</td>\n",
              "      <td>1889.5</td>\n",
              "      <td>no</td>\n",
              "    </tr>\n",
              "    <tr>\n",
              "      <th>2</th>\n",
              "      <td>3668-qpybk</td>\n",
              "      <td>male</td>\n",
              "      <td>0</td>\n",
              "      <td>no</td>\n",
              "      <td>no</td>\n",
              "      <td>2</td>\n",
              "      <td>yes</td>\n",
              "      <td>no</td>\n",
              "      <td>dsl</td>\n",
              "      <td>yes</td>\n",
              "      <td>...</td>\n",
              "      <td>no</td>\n",
              "      <td>no</td>\n",
              "      <td>no</td>\n",
              "      <td>no</td>\n",
              "      <td>month-to-month</td>\n",
              "      <td>yes</td>\n",
              "      <td>mailed_check</td>\n",
              "      <td>53.85</td>\n",
              "      <td>108.15</td>\n",
              "      <td>yes</td>\n",
              "    </tr>\n",
              "    <tr>\n",
              "      <th>3</th>\n",
              "      <td>7795-cfocw</td>\n",
              "      <td>male</td>\n",
              "      <td>0</td>\n",
              "      <td>no</td>\n",
              "      <td>no</td>\n",
              "      <td>45</td>\n",
              "      <td>no</td>\n",
              "      <td>no_phone_service</td>\n",
              "      <td>dsl</td>\n",
              "      <td>yes</td>\n",
              "      <td>...</td>\n",
              "      <td>yes</td>\n",
              "      <td>yes</td>\n",
              "      <td>no</td>\n",
              "      <td>no</td>\n",
              "      <td>one_year</td>\n",
              "      <td>no</td>\n",
              "      <td>bank_transfer_(automatic)</td>\n",
              "      <td>42.30</td>\n",
              "      <td>1840.75</td>\n",
              "      <td>no</td>\n",
              "    </tr>\n",
              "    <tr>\n",
              "      <th>4</th>\n",
              "      <td>9237-hqitu</td>\n",
              "      <td>female</td>\n",
              "      <td>0</td>\n",
              "      <td>no</td>\n",
              "      <td>no</td>\n",
              "      <td>2</td>\n",
              "      <td>yes</td>\n",
              "      <td>no</td>\n",
              "      <td>fiber_optic</td>\n",
              "      <td>no</td>\n",
              "      <td>...</td>\n",
              "      <td>no</td>\n",
              "      <td>no</td>\n",
              "      <td>no</td>\n",
              "      <td>no</td>\n",
              "      <td>month-to-month</td>\n",
              "      <td>yes</td>\n",
              "      <td>electronic_check</td>\n",
              "      <td>70.70</td>\n",
              "      <td>151.65</td>\n",
              "      <td>yes</td>\n",
              "    </tr>\n",
              "  </tbody>\n",
              "</table>\n",
              "<p>5 rows × 21 columns</p>\n",
              "</div>\n",
              "      <button class=\"colab-df-convert\" onclick=\"convertToInteractive('df-ec537d21-db35-4957-b192-9c67add847b6')\"\n",
              "              title=\"Convert this dataframe to an interactive table.\"\n",
              "              style=\"display:none;\">\n",
              "        \n",
              "  <svg xmlns=\"http://www.w3.org/2000/svg\" height=\"24px\"viewBox=\"0 0 24 24\"\n",
              "       width=\"24px\">\n",
              "    <path d=\"M0 0h24v24H0V0z\" fill=\"none\"/>\n",
              "    <path d=\"M18.56 5.44l.94 2.06.94-2.06 2.06-.94-2.06-.94-.94-2.06-.94 2.06-2.06.94zm-11 1L8.5 8.5l.94-2.06 2.06-.94-2.06-.94L8.5 2.5l-.94 2.06-2.06.94zm10 10l.94 2.06.94-2.06 2.06-.94-2.06-.94-.94-2.06-.94 2.06-2.06.94z\"/><path d=\"M17.41 7.96l-1.37-1.37c-.4-.4-.92-.59-1.43-.59-.52 0-1.04.2-1.43.59L10.3 9.45l-7.72 7.72c-.78.78-.78 2.05 0 2.83L4 21.41c.39.39.9.59 1.41.59.51 0 1.02-.2 1.41-.59l7.78-7.78 2.81-2.81c.8-.78.8-2.07 0-2.86zM5.41 20L4 18.59l7.72-7.72 1.47 1.35L5.41 20z\"/>\n",
              "  </svg>\n",
              "      </button>\n",
              "      \n",
              "  <style>\n",
              "    .colab-df-container {\n",
              "      display:flex;\n",
              "      flex-wrap:wrap;\n",
              "      gap: 12px;\n",
              "    }\n",
              "\n",
              "    .colab-df-convert {\n",
              "      background-color: #E8F0FE;\n",
              "      border: none;\n",
              "      border-radius: 50%;\n",
              "      cursor: pointer;\n",
              "      display: none;\n",
              "      fill: #1967D2;\n",
              "      height: 32px;\n",
              "      padding: 0 0 0 0;\n",
              "      width: 32px;\n",
              "    }\n",
              "\n",
              "    .colab-df-convert:hover {\n",
              "      background-color: #E2EBFA;\n",
              "      box-shadow: 0px 1px 2px rgba(60, 64, 67, 0.3), 0px 1px 3px 1px rgba(60, 64, 67, 0.15);\n",
              "      fill: #174EA6;\n",
              "    }\n",
              "\n",
              "    [theme=dark] .colab-df-convert {\n",
              "      background-color: #3B4455;\n",
              "      fill: #D2E3FC;\n",
              "    }\n",
              "\n",
              "    [theme=dark] .colab-df-convert:hover {\n",
              "      background-color: #434B5C;\n",
              "      box-shadow: 0px 1px 3px 1px rgba(0, 0, 0, 0.15);\n",
              "      filter: drop-shadow(0px 1px 2px rgba(0, 0, 0, 0.3));\n",
              "      fill: #FFFFFF;\n",
              "    }\n",
              "  </style>\n",
              "\n",
              "      <script>\n",
              "        const buttonEl =\n",
              "          document.querySelector('#df-ec537d21-db35-4957-b192-9c67add847b6 button.colab-df-convert');\n",
              "        buttonEl.style.display =\n",
              "          google.colab.kernel.accessAllowed ? 'block' : 'none';\n",
              "\n",
              "        async function convertToInteractive(key) {\n",
              "          const element = document.querySelector('#df-ec537d21-db35-4957-b192-9c67add847b6');\n",
              "          const dataTable =\n",
              "            await google.colab.kernel.invokeFunction('convertToInteractive',\n",
              "                                                     [key], {});\n",
              "          if (!dataTable) return;\n",
              "\n",
              "          const docLinkHtml = 'Like what you see? Visit the ' +\n",
              "            '<a target=\"_blank\" href=https://colab.research.google.com/notebooks/data_table.ipynb>data table notebook</a>'\n",
              "            + ' to learn more about interactive tables.';\n",
              "          element.innerHTML = '';\n",
              "          dataTable['output_type'] = 'display_data';\n",
              "          await google.colab.output.renderOutput(dataTable, element);\n",
              "          const docLink = document.createElement('div');\n",
              "          docLink.innerHTML = docLinkHtml;\n",
              "          element.appendChild(docLink);\n",
              "        }\n",
              "      </script>\n",
              "    </div>\n",
              "  </div>\n",
              "  "
            ]
          },
          "metadata": {},
          "execution_count": 2
        }
      ]
    },
    {
      "cell_type": "code",
      "source": [
        "df.dtypes\n"
      ],
      "metadata": {
        "colab": {
          "base_uri": "https://localhost:8080/"
        },
        "id": "vaXA37rF-rDu",
        "outputId": "9a975d30-0273-4134-8b1e-966285025cac"
      },
      "execution_count": null,
      "outputs": [
        {
          "output_type": "execute_result",
          "data": {
            "text/plain": [
              "customerid           object\n",
              "gender               object\n",
              "seniorcitizen         int64\n",
              "partner              object\n",
              "dependents           object\n",
              "tenure                int64\n",
              "phoneservice         object\n",
              "multiplelines        object\n",
              "internetservice      object\n",
              "onlinesecurity       object\n",
              "onlinebackup         object\n",
              "deviceprotection     object\n",
              "techsupport          object\n",
              "streamingtv          object\n",
              "streamingmovies      object\n",
              "contract             object\n",
              "paperlessbilling     object\n",
              "paymentmethod        object\n",
              "monthlycharges      float64\n",
              "totalcharges         object\n",
              "churn                object\n",
              "dtype: object"
            ]
          },
          "metadata": {},
          "execution_count": 3
        }
      ]
    },
    {
      "cell_type": "markdown",
      "source": [
        "Changing the data type of monthly charges and churn columns to int"
      ],
      "metadata": {
        "id": "kfkbxknF8hUI"
      }
    },
    {
      "cell_type": "code",
      "source": [
        "df.monthlycharges = df.monthlycharges.astype('int')\n",
        "df.monthlycharges\n",
        "df.churn = (df.churn=='yes').astype('int')\n",
        "df.monthlycharges.dtype"
      ],
      "metadata": {
        "colab": {
          "base_uri": "https://localhost:8080/"
        },
        "id": "YlVpd1uJ_Asz",
        "outputId": "43630c71-4e57-4097-cc87-e8b8db3fbf54"
      },
      "execution_count": null,
      "outputs": [
        {
          "output_type": "execute_result",
          "data": {
            "text/plain": [
              "dtype('int64')"
            ]
          },
          "metadata": {},
          "execution_count": 4
        }
      ]
    },
    {
      "cell_type": "markdown",
      "source": [
        "Setting up the validation framework\n",
        "\n",
        "spliting train, val and test data sets"
      ],
      "metadata": {
        "id": "t4Z6kHtyAFC1"
      }
    },
    {
      "cell_type": "code",
      "source": [
        "X= df.drop(['churn'],axis=1)\n",
        "y= df.churn\n",
        "\n",
        "from sklearn.model_selection import train_test_split\n",
        "\n",
        "def split(X,y):\n",
        "\n",
        "\n",
        "  full_X_train, X_val, full_y_train, y_val = train_test_split(X,y,test_size=0.2, random_state=0)\n",
        "  X_train, X_test, y_train , y_test = train_test_split(full_X_train,full_y_train,test_size=0.25, random_state=0)\n",
        "  return (X_train, X_val, y_train , y_val)\n",
        "\n",
        "\n"
      ],
      "metadata": {
        "id": "6oghLvAOAGF7"
      },
      "execution_count": null,
      "outputs": []
    },
    {
      "cell_type": "code",
      "source": [
        "#len(X_train),len(X_val),len(X_test)"
      ],
      "metadata": {
        "id": "t0BiNiYf9zd7"
      },
      "execution_count": null,
      "outputs": []
    },
    {
      "cell_type": "markdown",
      "source": [
        "Exploratory data analysis\n",
        "\n",
        "Checking for missing values"
      ],
      "metadata": {
        "id": "31fPSXzY-BCv"
      }
    },
    {
      "cell_type": "code",
      "source": [
        "df.isnull().sum()"
      ],
      "metadata": {
        "colab": {
          "base_uri": "https://localhost:8080/"
        },
        "id": "jttRe7ipA-hk",
        "outputId": "db8948b9-8cab-4d75-8f81-dfd650ca6126"
      },
      "execution_count": null,
      "outputs": [
        {
          "output_type": "execute_result",
          "data": {
            "text/plain": [
              "customerid          0\n",
              "gender              0\n",
              "seniorcitizen       0\n",
              "partner             0\n",
              "dependents          0\n",
              "tenure              0\n",
              "phoneservice        0\n",
              "multiplelines       0\n",
              "internetservice     0\n",
              "onlinesecurity      0\n",
              "onlinebackup        0\n",
              "deviceprotection    0\n",
              "techsupport         0\n",
              "streamingtv         0\n",
              "streamingmovies     0\n",
              "contract            0\n",
              "paperlessbilling    0\n",
              "paymentmethod       0\n",
              "monthlycharges      0\n",
              "totalcharges        0\n",
              "churn               0\n",
              "dtype: int64"
            ]
          },
          "metadata": {},
          "execution_count": 7
        }
      ]
    },
    {
      "cell_type": "markdown",
      "source": [
        "There is no null values.\n",
        "1st method. Doing random forest by taking all features"
      ],
      "metadata": {
        "id": "JuesyGZmBzd9"
      }
    },
    {
      "cell_type": "code",
      "source": [
        "from sklearn.ensemble import RandomForestClassifier\n",
        "from sklearn.metrics import mean_squared_error\n",
        "from sklearn.metrics import mean_absolute_error\n",
        "from sklearn.metrics import accuracy_score\n",
        "\n",
        "#defining random forest model\n",
        "def randommodel(X_train, X_val, y_train , y_val):\n",
        "  model1= RandomForestClassifier(random_state=0)\n",
        "  model1.fit(X_train, y_train)\n",
        "  pred = model1.predict(X_val)\n",
        "\n",
        "  \n",
        "  print('ACCURACY: ',accuracy_score(pred,y_val)*100)\n",
        "  \n",
        "\n",
        "# calling model with all features\n",
        "X= df.drop(['churn'],axis=1)\n",
        "y= df.churn\n",
        "X_train, X_val, y_train , y_val = split(X,y)\n",
        "#model(X_train, X_val, y_train , y_val)\n",
        "\n",
        "\n"
      ],
      "metadata": {
        "id": "WdMQzPL1BQ2s"
      },
      "execution_count": null,
      "outputs": []
    },
    {
      "cell_type": "markdown",
      "source": [
        "As we can see we are getting error:\n",
        "1.   ValueError: could not convert string to float: '7544-zvikx'\n",
        "\n",
        "So we have to either drop this feature (customer id)or factorize/hot encode  the feature\n",
        "\n"
      ],
      "metadata": {
        "id": "7qLUFQ86LUvO"
      }
    },
    {
      "cell_type": "code",
      "source": [
        "df.head()"
      ],
      "metadata": {
        "colab": {
          "base_uri": "https://localhost:8080/"
        },
        "id": "Z6epIUQDLkvv",
        "outputId": "e9331edf-5b14-4ce2-9681-50dc585b9bb2"
      },
      "execution_count": null,
      "outputs": [
        {
          "output_type": "execute_result",
          "data": {
            "text/plain": [
              "   customerid  gender  seniorcitizen partner dependents  tenure phoneservice  \\\n",
              "0  7590-vhveg  female              0     yes         no       1           no   \n",
              "1  5575-gnvde    male              0      no         no      34          yes   \n",
              "2  3668-qpybk    male              0      no         no       2          yes   \n",
              "3  7795-cfocw    male              0      no         no      45           no   \n",
              "4  9237-hqitu  female              0      no         no       2          yes   \n",
              "\n",
              "      multiplelines internetservice onlinesecurity  ... deviceprotection  \\\n",
              "0  no_phone_service             dsl             no  ...               no   \n",
              "1                no             dsl            yes  ...              yes   \n",
              "2                no             dsl            yes  ...               no   \n",
              "3  no_phone_service             dsl            yes  ...              yes   \n",
              "4                no     fiber_optic             no  ...               no   \n",
              "\n",
              "  techsupport streamingtv streamingmovies        contract paperlessbilling  \\\n",
              "0          no          no              no  month-to-month              yes   \n",
              "1          no          no              no        one_year               no   \n",
              "2          no          no              no  month-to-month              yes   \n",
              "3         yes          no              no        one_year               no   \n",
              "4          no          no              no  month-to-month              yes   \n",
              "\n",
              "               paymentmethod monthlycharges  totalcharges churn  \n",
              "0           electronic_check             29         29.85     0  \n",
              "1               mailed_check             56        1889.5     0  \n",
              "2               mailed_check             53        108.15     1  \n",
              "3  bank_transfer_(automatic)             42       1840.75     0  \n",
              "4           electronic_check             70        151.65     1  \n",
              "\n",
              "[5 rows x 21 columns]"
            ],
            "text/html": [
              "\n",
              "  <div id=\"df-30153139-9e70-419d-b022-b56f6873e762\">\n",
              "    <div class=\"colab-df-container\">\n",
              "      <div>\n",
              "<style scoped>\n",
              "    .dataframe tbody tr th:only-of-type {\n",
              "        vertical-align: middle;\n",
              "    }\n",
              "\n",
              "    .dataframe tbody tr th {\n",
              "        vertical-align: top;\n",
              "    }\n",
              "\n",
              "    .dataframe thead th {\n",
              "        text-align: right;\n",
              "    }\n",
              "</style>\n",
              "<table border=\"1\" class=\"dataframe\">\n",
              "  <thead>\n",
              "    <tr style=\"text-align: right;\">\n",
              "      <th></th>\n",
              "      <th>customerid</th>\n",
              "      <th>gender</th>\n",
              "      <th>seniorcitizen</th>\n",
              "      <th>partner</th>\n",
              "      <th>dependents</th>\n",
              "      <th>tenure</th>\n",
              "      <th>phoneservice</th>\n",
              "      <th>multiplelines</th>\n",
              "      <th>internetservice</th>\n",
              "      <th>onlinesecurity</th>\n",
              "      <th>...</th>\n",
              "      <th>deviceprotection</th>\n",
              "      <th>techsupport</th>\n",
              "      <th>streamingtv</th>\n",
              "      <th>streamingmovies</th>\n",
              "      <th>contract</th>\n",
              "      <th>paperlessbilling</th>\n",
              "      <th>paymentmethod</th>\n",
              "      <th>monthlycharges</th>\n",
              "      <th>totalcharges</th>\n",
              "      <th>churn</th>\n",
              "    </tr>\n",
              "  </thead>\n",
              "  <tbody>\n",
              "    <tr>\n",
              "      <th>0</th>\n",
              "      <td>7590-vhveg</td>\n",
              "      <td>female</td>\n",
              "      <td>0</td>\n",
              "      <td>yes</td>\n",
              "      <td>no</td>\n",
              "      <td>1</td>\n",
              "      <td>no</td>\n",
              "      <td>no_phone_service</td>\n",
              "      <td>dsl</td>\n",
              "      <td>no</td>\n",
              "      <td>...</td>\n",
              "      <td>no</td>\n",
              "      <td>no</td>\n",
              "      <td>no</td>\n",
              "      <td>no</td>\n",
              "      <td>month-to-month</td>\n",
              "      <td>yes</td>\n",
              "      <td>electronic_check</td>\n",
              "      <td>29</td>\n",
              "      <td>29.85</td>\n",
              "      <td>0</td>\n",
              "    </tr>\n",
              "    <tr>\n",
              "      <th>1</th>\n",
              "      <td>5575-gnvde</td>\n",
              "      <td>male</td>\n",
              "      <td>0</td>\n",
              "      <td>no</td>\n",
              "      <td>no</td>\n",
              "      <td>34</td>\n",
              "      <td>yes</td>\n",
              "      <td>no</td>\n",
              "      <td>dsl</td>\n",
              "      <td>yes</td>\n",
              "      <td>...</td>\n",
              "      <td>yes</td>\n",
              "      <td>no</td>\n",
              "      <td>no</td>\n",
              "      <td>no</td>\n",
              "      <td>one_year</td>\n",
              "      <td>no</td>\n",
              "      <td>mailed_check</td>\n",
              "      <td>56</td>\n",
              "      <td>1889.5</td>\n",
              "      <td>0</td>\n",
              "    </tr>\n",
              "    <tr>\n",
              "      <th>2</th>\n",
              "      <td>3668-qpybk</td>\n",
              "      <td>male</td>\n",
              "      <td>0</td>\n",
              "      <td>no</td>\n",
              "      <td>no</td>\n",
              "      <td>2</td>\n",
              "      <td>yes</td>\n",
              "      <td>no</td>\n",
              "      <td>dsl</td>\n",
              "      <td>yes</td>\n",
              "      <td>...</td>\n",
              "      <td>no</td>\n",
              "      <td>no</td>\n",
              "      <td>no</td>\n",
              "      <td>no</td>\n",
              "      <td>month-to-month</td>\n",
              "      <td>yes</td>\n",
              "      <td>mailed_check</td>\n",
              "      <td>53</td>\n",
              "      <td>108.15</td>\n",
              "      <td>1</td>\n",
              "    </tr>\n",
              "    <tr>\n",
              "      <th>3</th>\n",
              "      <td>7795-cfocw</td>\n",
              "      <td>male</td>\n",
              "      <td>0</td>\n",
              "      <td>no</td>\n",
              "      <td>no</td>\n",
              "      <td>45</td>\n",
              "      <td>no</td>\n",
              "      <td>no_phone_service</td>\n",
              "      <td>dsl</td>\n",
              "      <td>yes</td>\n",
              "      <td>...</td>\n",
              "      <td>yes</td>\n",
              "      <td>yes</td>\n",
              "      <td>no</td>\n",
              "      <td>no</td>\n",
              "      <td>one_year</td>\n",
              "      <td>no</td>\n",
              "      <td>bank_transfer_(automatic)</td>\n",
              "      <td>42</td>\n",
              "      <td>1840.75</td>\n",
              "      <td>0</td>\n",
              "    </tr>\n",
              "    <tr>\n",
              "      <th>4</th>\n",
              "      <td>9237-hqitu</td>\n",
              "      <td>female</td>\n",
              "      <td>0</td>\n",
              "      <td>no</td>\n",
              "      <td>no</td>\n",
              "      <td>2</td>\n",
              "      <td>yes</td>\n",
              "      <td>no</td>\n",
              "      <td>fiber_optic</td>\n",
              "      <td>no</td>\n",
              "      <td>...</td>\n",
              "      <td>no</td>\n",
              "      <td>no</td>\n",
              "      <td>no</td>\n",
              "      <td>no</td>\n",
              "      <td>month-to-month</td>\n",
              "      <td>yes</td>\n",
              "      <td>electronic_check</td>\n",
              "      <td>70</td>\n",
              "      <td>151.65</td>\n",
              "      <td>1</td>\n",
              "    </tr>\n",
              "  </tbody>\n",
              "</table>\n",
              "<p>5 rows × 21 columns</p>\n",
              "</div>\n",
              "      <button class=\"colab-df-convert\" onclick=\"convertToInteractive('df-30153139-9e70-419d-b022-b56f6873e762')\"\n",
              "              title=\"Convert this dataframe to an interactive table.\"\n",
              "              style=\"display:none;\">\n",
              "        \n",
              "  <svg xmlns=\"http://www.w3.org/2000/svg\" height=\"24px\"viewBox=\"0 0 24 24\"\n",
              "       width=\"24px\">\n",
              "    <path d=\"M0 0h24v24H0V0z\" fill=\"none\"/>\n",
              "    <path d=\"M18.56 5.44l.94 2.06.94-2.06 2.06-.94-2.06-.94-.94-2.06-.94 2.06-2.06.94zm-11 1L8.5 8.5l.94-2.06 2.06-.94-2.06-.94L8.5 2.5l-.94 2.06-2.06.94zm10 10l.94 2.06.94-2.06 2.06-.94-2.06-.94-.94-2.06-.94 2.06-2.06.94z\"/><path d=\"M17.41 7.96l-1.37-1.37c-.4-.4-.92-.59-1.43-.59-.52 0-1.04.2-1.43.59L10.3 9.45l-7.72 7.72c-.78.78-.78 2.05 0 2.83L4 21.41c.39.39.9.59 1.41.59.51 0 1.02-.2 1.41-.59l7.78-7.78 2.81-2.81c.8-.78.8-2.07 0-2.86zM5.41 20L4 18.59l7.72-7.72 1.47 1.35L5.41 20z\"/>\n",
              "  </svg>\n",
              "      </button>\n",
              "      \n",
              "  <style>\n",
              "    .colab-df-container {\n",
              "      display:flex;\n",
              "      flex-wrap:wrap;\n",
              "      gap: 12px;\n",
              "    }\n",
              "\n",
              "    .colab-df-convert {\n",
              "      background-color: #E8F0FE;\n",
              "      border: none;\n",
              "      border-radius: 50%;\n",
              "      cursor: pointer;\n",
              "      display: none;\n",
              "      fill: #1967D2;\n",
              "      height: 32px;\n",
              "      padding: 0 0 0 0;\n",
              "      width: 32px;\n",
              "    }\n",
              "\n",
              "    .colab-df-convert:hover {\n",
              "      background-color: #E2EBFA;\n",
              "      box-shadow: 0px 1px 2px rgba(60, 64, 67, 0.3), 0px 1px 3px 1px rgba(60, 64, 67, 0.15);\n",
              "      fill: #174EA6;\n",
              "    }\n",
              "\n",
              "    [theme=dark] .colab-df-convert {\n",
              "      background-color: #3B4455;\n",
              "      fill: #D2E3FC;\n",
              "    }\n",
              "\n",
              "    [theme=dark] .colab-df-convert:hover {\n",
              "      background-color: #434B5C;\n",
              "      box-shadow: 0px 1px 3px 1px rgba(0, 0, 0, 0.15);\n",
              "      filter: drop-shadow(0px 1px 2px rgba(0, 0, 0, 0.3));\n",
              "      fill: #FFFFFF;\n",
              "    }\n",
              "  </style>\n",
              "\n",
              "      <script>\n",
              "        const buttonEl =\n",
              "          document.querySelector('#df-30153139-9e70-419d-b022-b56f6873e762 button.colab-df-convert');\n",
              "        buttonEl.style.display =\n",
              "          google.colab.kernel.accessAllowed ? 'block' : 'none';\n",
              "\n",
              "        async function convertToInteractive(key) {\n",
              "          const element = document.querySelector('#df-30153139-9e70-419d-b022-b56f6873e762');\n",
              "          const dataTable =\n",
              "            await google.colab.kernel.invokeFunction('convertToInteractive',\n",
              "                                                     [key], {});\n",
              "          if (!dataTable) return;\n",
              "\n",
              "          const docLinkHtml = 'Like what you see? Visit the ' +\n",
              "            '<a target=\"_blank\" href=https://colab.research.google.com/notebooks/data_table.ipynb>data table notebook</a>'\n",
              "            + ' to learn more about interactive tables.';\n",
              "          element.innerHTML = '';\n",
              "          dataTable['output_type'] = 'display_data';\n",
              "          await google.colab.output.renderOutput(dataTable, element);\n",
              "          const docLink = document.createElement('div');\n",
              "          docLink.innerHTML = docLinkHtml;\n",
              "          element.appendChild(docLink);\n",
              "        }\n",
              "      </script>\n",
              "    </div>\n",
              "  </div>\n",
              "  "
            ]
          },
          "metadata": {},
          "execution_count": 9
        }
      ]
    },
    {
      "cell_type": "markdown",
      "source": [
        "As we can see there are lot of catergorical variables and numerical variables in df. \n",
        "\n",
        "1.   So we'll split them separately and for categorical features we will only use categorical features which has less than 10 unique features, since more than that may not be appear in validation/test test and it can create error\n",
        "\n",
        "\n"
      ],
      "metadata": {
        "id": "tqTekbrQMVSA"
      }
    },
    {
      "cell_type": "code",
      "source": [
        "# splitting numerical and categorical features\n",
        "\n",
        "\n",
        "num_cols = [col for col in X_train.columns if X_train[col].dtype in ['int64','float64']]\n",
        "print(num_cols)\n",
        "\n",
        "cat_cols= [col for col in X_train.columns if (X_train[col].dtype == 'object' and X_train[col].nunique() < 10)]\n",
        "print(cat_cols)\n",
        "\n",
        "#We'll only use these columns to train the model and validate the model\n",
        "\n",
        "cols = num_cols + cat_cols\n",
        "X_train_1 = X_train[cols]\n",
        "X_val_1 = X_val[cols]\n"
      ],
      "metadata": {
        "colab": {
          "base_uri": "https://localhost:8080/"
        },
        "id": "akJyS6PtM77B",
        "outputId": "f4e14961-c206-4c07-e941-faadd0e941a1"
      },
      "execution_count": null,
      "outputs": [
        {
          "output_type": "stream",
          "name": "stdout",
          "text": [
            "['seniorcitizen', 'tenure', 'monthlycharges']\n",
            "['gender', 'partner', 'dependents', 'phoneservice', 'multiplelines', 'internetservice', 'onlinesecurity', 'onlinebackup', 'deviceprotection', 'techsupport', 'streamingtv', 'streamingmovies', 'contract', 'paperlessbilling', 'paymentmethod']\n"
          ]
        }
      ]
    },
    {
      "cell_type": "markdown",
      "source": [
        "Still, our problem hasn't solved, so now we'll train the model only using numerical feature and check the error output"
      ],
      "metadata": {
        "id": "2E1YJhKpPzZY"
      }
    },
    {
      "cell_type": "code",
      "source": [
        "X = df[num_cols]\n",
        "y = df['churn']\n",
        "\n",
        "#calling model1 with using numerical features\n",
        "\n",
        "X_train, X_val, y_train , y_val = split(X,y)\n",
        "randommodel(X_train, X_val, y_train , y_val)"
      ],
      "metadata": {
        "colab": {
          "base_uri": "https://localhost:8080/"
        },
        "id": "-YMdvQIwQur-",
        "outputId": "4cfe255c-7fe4-40cb-d0e5-335d5c4e4566"
      },
      "execution_count": null,
      "outputs": [
        {
          "output_type": "stream",
          "name": "stdout",
          "text": [
            "ACCURACY:  74.59190915542938\n"
          ]
        }
      ]
    },
    {
      "cell_type": "markdown",
      "source": [
        "We got accuracy to be 74.59190915542938 for random forest classifier model.\n",
        "Now we'll try the same with logistic regression model"
      ],
      "metadata": {
        "id": "isMBbPCnbXOq"
      }
    },
    {
      "cell_type": "code",
      "source": [
        "from sklearn.linear_model import LogisticRegression  \n",
        "\n",
        "#defining logistic model\n",
        "def logisticmodel(X_train, X_val, y_train , y_val):\n",
        "  model1= LogisticRegression(max_iter=100)\n",
        "  model1.fit(X_train, y_train)\n",
        "  pred = model1.predict(X_val)\n",
        "\n",
        "  \n",
        "  print('ACCURACY: ',accuracy_score(pred,y_val)*100)"
      ],
      "metadata": {
        "id": "SoqrBRhGcBxf"
      },
      "execution_count": null,
      "outputs": []
    },
    {
      "cell_type": "code",
      "source": [
        "X = df[num_cols]\n",
        "y = df['churn']\n",
        "\n",
        "#calling model1 with using numerical features\n",
        "\n",
        "X_train, X_val, y_train , y_val = split(X,y)\n",
        "logisticmodel(X_train, X_val, y_train , y_val)"
      ],
      "metadata": {
        "colab": {
          "base_uri": "https://localhost:8080/"
        },
        "id": "-FHtqQJlcjTI",
        "outputId": "e2726014-5d53-4de9-a04f-92cde8f3dc1e"
      },
      "execution_count": null,
      "outputs": [
        {
          "output_type": "stream",
          "name": "stdout",
          "text": [
            "ACCURACY:  77.9985805535841\n"
          ]
        }
      ]
    },
    {
      "cell_type": "markdown",
      "source": [
        "So first level analysis\n",
        "\n",
        "with only using numerical features\n",
        "\n",
        "1. Random forest classifier = 74.59190915542938\n",
        "2. Logistic regression = 77.9985805535841"
      ],
      "metadata": {
        "id": "3Hc3OGH8cpwn"
      }
    },
    {
      "cell_type": "markdown",
      "source": [
        "Other ways to improve the model \n",
        "\n",
        "We'll be using feature importance analysis topics to impove the accuracy\n",
        "\n",
        "Mutual Information"
      ],
      "metadata": {
        "id": "-VHTCcAic42R"
      }
    },
    {
      "cell_type": "code",
      "source": [
        "#changing object dtype to int type using factorize \n",
        "X = df.drop(['churn'],axis=1)\n",
        "mi= X\n",
        "for col in mi.select_dtypes('object'):\n",
        "  mi[col],_ = mi[col].factorize()\n",
        "\n",
        "discrete_feature= mi.dtypes == int\n",
        "\n",
        "from sklearn.feature_selection import mutual_info_classif\n",
        "\n",
        "mi_scores = mutual_info_classif(mi,y)\n",
        "mi_scores= pd.Series(mi_scores, name='mi_scores',index=mi.columns)\n",
        "mi_scores= mi_scores.sort_values(ascending=False)\n",
        "print(mi_scores)"
      ],
      "metadata": {
        "colab": {
          "base_uri": "https://localhost:8080/"
        },
        "id": "R7xyQlRCpmuO",
        "outputId": "7f1eda54-1a19-460a-c9c6-ff3099862943"
      },
      "execution_count": null,
      "outputs": [
        {
          "output_type": "stream",
          "name": "stdout",
          "text": [
            "contract            0.091739\n",
            "onlinesecurity      0.073195\n",
            "tenure              0.068348\n",
            "techsupport         0.057317\n",
            "internetservice     0.055565\n",
            "monthlycharges      0.044896\n",
            "onlinebackup        0.044225\n",
            "deviceprotection    0.042753\n",
            "paymentmethod       0.038445\n",
            "streamingmovies     0.027286\n",
            "streamingtv         0.025292\n",
            "dependents          0.018521\n",
            "paperlessbilling    0.016763\n",
            "seniorcitizen       0.015564\n",
            "multiplelines       0.013031\n",
            "partner             0.011401\n",
            "phoneservice        0.002631\n",
            "customerid          0.000000\n",
            "gender              0.000000\n",
            "totalcharges        0.000000\n",
            "Name: mi_scores, dtype: float64\n"
          ]
        }
      ]
    },
    {
      "cell_type": "markdown",
      "source": [
        "Checking correlation with numerical variables"
      ],
      "metadata": {
        "id": "KaoOji6w-IPr"
      }
    },
    {
      "cell_type": "code",
      "source": [
        "# numerical variables\n",
        "\n",
        "df[num_cols].corrwith(df.churn)"
      ],
      "metadata": {
        "colab": {
          "base_uri": "https://localhost:8080/"
        },
        "id": "ARh8OzIE-M1w",
        "outputId": "356dffbe-95c4-4661-abfe-a9af091d09ad"
      },
      "execution_count": null,
      "outputs": [
        {
          "output_type": "execute_result",
          "data": {
            "text/plain": [
              "seniorcitizen     0.150889\n",
              "tenure           -0.352229\n",
              "monthlycharges    0.193422\n",
              "dtype: float64"
            ]
          },
          "metadata": {},
          "execution_count": 15
        }
      ]
    },
    {
      "cell_type": "markdown",
      "source": [
        "This shows tenure has negative coreleation with churn rate and seniorcitizen and monthly charges has positive corelation with churn rate\n",
        "\n",
        "\n",
        "\n",
        "1.   High churn low tenure\n",
        "2.   High churn high monthly charges/senior citizen\n",
        "\n"
      ],
      "metadata": {
        "id": "zhaCG41Q_FrR"
      }
    },
    {
      "cell_type": "markdown",
      "source": [
        "Also, we have verified that features that has high MI is included in the cols[num+cat]"
      ],
      "metadata": {
        "id": "e0-Dd5m6Fy-_"
      }
    },
    {
      "cell_type": "markdown",
      "source": [
        "We'll use pipeline to do encoding with num and cat features\n",
        "\n",
        "1. with random forest classifier"
      ],
      "metadata": {
        "id": "SM3-oMNk_emf"
      }
    },
    {
      "cell_type": "code",
      "source": [
        "from sklearn.compose import ColumnTransformer\n",
        "from sklearn.pipeline import Pipeline\n",
        "from sklearn.impute import SimpleImputer\n",
        "from sklearn.preprocessing import OneHotEncoder\n",
        "\n",
        "X = df[cols]\n",
        "y = df['churn']\n",
        "\n",
        "#calling model1 with using numerical features\n",
        "\n",
        "X_train, X_val, y_train , y_val = split(X,y)\n",
        "\n",
        "\n",
        "# Preprocessing for numerical data\n",
        "numerical_transformer = SimpleImputer(strategy='constant')\n",
        "\n",
        "# Preprocessing for categorical data\n",
        "categorical_transformer = Pipeline(steps=[\n",
        "    ('imputer', SimpleImputer(strategy='most_frequent')),\n",
        "    ('onehot', OneHotEncoder(handle_unknown='ignore'))\n",
        "])\n",
        "\n",
        "model= RandomForestClassifier(random_state=0)\n",
        "\n",
        "\n",
        "# Bundle preprocessing for numerical and categorical data\n",
        "preprocessor = ColumnTransformer(\n",
        "    transformers=[\n",
        "        ('num', numerical_transformer, num_cols),\n",
        "        ('cat', categorical_transformer, cat_cols)\n",
        "    ])\n",
        "\n",
        "my_pipeline = Pipeline(steps=[('preprocessor', preprocessor),\n",
        "                              ('model', model)\n",
        "                             ])\n",
        "\n",
        "# Preprocessing of training data, fit model \n",
        "my_pipeline.fit(X_train, y_train)\n",
        "\n",
        "# Preprocessing of validation data, get predictions\n",
        "preds = my_pipeline.predict(X_val)\n",
        "\n",
        "print('ACCURACY: ',accuracy_score(preds,y_val)*100)"
      ],
      "metadata": {
        "colab": {
          "base_uri": "https://localhost:8080/"
        },
        "id": "F_At4qbvAWFC",
        "outputId": "3f53ead8-de33-4bef-a370-f7d878b85c52"
      },
      "execution_count": null,
      "outputs": [
        {
          "output_type": "stream",
          "name": "stdout",
          "text": [
            "ACCURACY:  77.2888573456352\n"
          ]
        }
      ]
    },
    {
      "cell_type": "markdown",
      "source": [
        "We'll try the same with logistic model"
      ],
      "metadata": {
        "id": "K-Er-rBdCu-m"
      }
    },
    {
      "cell_type": "code",
      "source": [
        "X = df[cols]\n",
        "\n",
        "#print(X.columns)\n",
        "y = df['churn']\n",
        "\n",
        "#calling model1 with using numerical features\n",
        "\n",
        "X_train, X_val, y_train , y_val = split(X,y)\n",
        "\n",
        "\n",
        "# Preprocessing for numerical data\n",
        "numerical_transformer = SimpleImputer(strategy='constant')\n",
        "\n",
        "# Preprocessing for categorical data\n",
        "categorical_transformer = Pipeline(steps=[\n",
        "    ('imputer', SimpleImputer(strategy='most_frequent')),\n",
        "    ('onehot', OneHotEncoder(handle_unknown='ignore'))\n",
        "])\n",
        "\n",
        "model= LogisticRegression(max_iter=100)\n",
        "\n",
        "\n",
        "# Bundle preprocessing for numerical and categorical data\n",
        "preprocessor = ColumnTransformer(\n",
        "    transformers=[\n",
        "        ('num', numerical_transformer, num_cols),\n",
        "        ('cat', categorical_transformer, cat_cols)\n",
        "    ])\n",
        "\n",
        "my_pipeline = Pipeline(steps=[('preprocessor', preprocessor),\n",
        "                              ('model', model)\n",
        "                             ])\n",
        "\n",
        "# Preprocessing of training data, fit model \n",
        "my_pipeline.fit(X_train, y_train)\n",
        "\n",
        "# Preprocessing of validation data, get predictions\n",
        "preds = my_pipeline.predict(X_val)\n",
        "\n",
        "print('ACCURACY: ',accuracy_score(preds,y_val)*100)"
      ],
      "metadata": {
        "colab": {
          "base_uri": "https://localhost:8080/"
        },
        "id": "J1oCXiqUCzYm",
        "outputId": "b9933e35-9129-475b-f183-65ad81797d91"
      },
      "execution_count": null,
      "outputs": [
        {
          "output_type": "stream",
          "name": "stdout",
          "text": [
            "ACCURACY:  79.84386089425124\n"
          ]
        }
      ]
    },
    {
      "cell_type": "markdown",
      "source": [
        "Accuracy of pipeline with RF classifier is 77.2888573456352\n",
        "\n",
        "whereas for logistic regression is same 79.84386089425124\n",
        "\n",
        "\n"
      ],
      "metadata": {
        "id": "t7z88nm_EcWt"
      }
    },
    {
      "cell_type": "markdown",
      "source": [
        "Next, we'll try XGB classifier with the num+cat"
      ],
      "metadata": {
        "id": "Ot05Z3qoHDVu"
      }
    },
    {
      "cell_type": "code",
      "source": [
        "from xgboost import XGBClassifier\n",
        "xgb_model = XGBClassifier()\n",
        "#one hot encoding\n",
        "X= df[cols]\n",
        "X = pd.get_dummies(X, columns=cols)\n",
        "X_train, X_val, y_train , y_val = split(X,y)\n",
        "\n",
        "xgb_model.fit(X_train, y_train)\n",
        "prediction_xgb = xgb_model.predict(X_val)\n",
        "print('ACCURACY: ',accuracy_score(y_val, prediction_xgb)*100)"
      ],
      "metadata": {
        "colab": {
          "base_uri": "https://localhost:8080/"
        },
        "id": "UMW68dQmHIyM",
        "outputId": "2a77a606-bf45-4591-d1c1-1eaf109401bd"
      },
      "execution_count": null,
      "outputs": [
        {
          "output_type": "stream",
          "name": "stdout",
          "text": [
            "ACCURACY:  79.4889992902768\n"
          ]
        }
      ]
    },
    {
      "cell_type": "markdown",
      "source": [
        "XGB classifier gives 79.4889992902768"
      ],
      "metadata": {
        "id": "dHlcej-FcixK"
      }
    },
    {
      "cell_type": "markdown",
      "source": [
        "We'll just check what will be the case if we use all the features in XGB classifier instead of just all columns"
      ],
      "metadata": {
        "id": "GTXcfKircwgH"
      }
    },
    {
      "cell_type": "code",
      "source": [
        "from xgboost import XGBClassifier\n",
        "xgb_model = XGBClassifier()\n",
        "#one hot encoding\n",
        "X=df.drop(['churn'],axis=1)\n",
        "X = pd.get_dummies(X)\n",
        "X_train, X_val, y_train , y_val = split(X,y)\n",
        "\n",
        "xgb_model.fit(X_train, y_train)\n",
        "prediction_xgb = xgb_model.predict(X_val)\n",
        "print('ACCURACY: ',accuracy_score(y_val, prediction_xgb)*100)"
      ],
      "metadata": {
        "colab": {
          "base_uri": "https://localhost:8080/"
        },
        "id": "csHxbKdBc6j1",
        "outputId": "a2f17d07-e553-4357-de8d-767a6b2198aa"
      },
      "execution_count": null,
      "outputs": [
        {
          "output_type": "stream",
          "name": "stdout",
          "text": [
            "ACCURACY:  78.85024840312278\n"
          ]
        }
      ]
    },
    {
      "cell_type": "markdown",
      "source": [
        "This gives accuracy of 78.85024840312278 and is less compared to using only specific features"
      ],
      "metadata": {
        "id": "wRwZ1Af0eIJy"
      }
    },
    {
      "cell_type": "markdown",
      "source": [
        "We'll just the same for RF and logistic regression"
      ],
      "metadata": {
        "id": "LeYUbHjpecLc"
      }
    },
    {
      "cell_type": "code",
      "source": [
        "X=df.drop(['churn'],axis=1)\n",
        "X = pd.get_dummies(X)\n",
        "X_train, X_val, y_train , y_val = split(X,y)\n",
        "print('random forest classifier')\n",
        "randommodel(X_train, X_val, y_train , y_val)\n"
      ],
      "metadata": {
        "colab": {
          "base_uri": "https://localhost:8080/"
        },
        "id": "Y8eCpLJXejNi",
        "outputId": "d294f07d-7d04-4bef-e270-fc64e4346136"
      },
      "execution_count": null,
      "outputs": [
        {
          "output_type": "stream",
          "name": "stdout",
          "text": [
            "random forest classifier\n",
            "ACCURACY:  78.49538679914833\n"
          ]
        }
      ]
    },
    {
      "cell_type": "code",
      "source": [
        "X=df.drop(['churn'],axis=1)\n",
        "X = pd.get_dummies(X)\n",
        "print(X.shape)\n",
        "X_train, X_val, y_train , y_val = split(X,y)\n",
        "print('logistic regressor')\n",
        "logisticmodel(X_train, X_val, y_train , y_val)"
      ],
      "metadata": {
        "colab": {
          "base_uri": "https://localhost:8080/"
        },
        "id": "OhgJI2Pee1W7",
        "outputId": "c7e641d4-1a1e-4193-9c87-1c57795e7354"
      },
      "execution_count": null,
      "outputs": [
        {
          "output_type": "stream",
          "name": "stdout",
          "text": [
            "(7043, 13618)\n",
            "logistic regressor\n",
            "ACCURACY:  79.13413768630234\n"
          ]
        }
      ]
    },
    {
      "cell_type": "markdown",
      "source": [
        "with only cat+num features"
      ],
      "metadata": {
        "id": "LPevvgnxhQcD"
      }
    },
    {
      "cell_type": "code",
      "source": [
        "X= df[cols]\n",
        "X = pd.get_dummies(X, columns=cols)\n",
        "print(X.shape)\n",
        "X_train, X_val, y_train , y_val = split(X,y)\n",
        "print('random forest classifier')\n",
        "randommodel(X_train, X_val, y_train , y_val)\n"
      ],
      "metadata": {
        "colab": {
          "base_uri": "https://localhost:8080/"
        },
        "id": "S5EBL06OfKVM",
        "outputId": "6fe544d9-6dd7-4d90-90c6-bf79c88b0f48"
      },
      "execution_count": null,
      "outputs": [
        {
          "output_type": "stream",
          "name": "stdout",
          "text": [
            "(7043, 215)\n",
            "random forest classifier\n",
            "ACCURACY:  76.72107877927608\n"
          ]
        }
      ]
    },
    {
      "cell_type": "code",
      "source": [
        "X= df[cols]\n",
        "X = pd.get_dummies(X, columns=cols)\n",
        "X_train, X_val, y_train , y_val = split(X,y)\n",
        "print('logistic regressor')\n",
        "logisticmodel(X_train, X_val, y_train , y_val)"
      ],
      "metadata": {
        "colab": {
          "base_uri": "https://localhost:8080/"
        },
        "id": "LC9lKoCEfjlq",
        "outputId": "fe653066-49c9-4e12-d1e2-cac297aa760e"
      },
      "execution_count": null,
      "outputs": [
        {
          "output_type": "stream",
          "name": "stdout",
          "text": [
            "logistic regressor\n",
            "ACCURACY:  78.99219304471256\n"
          ]
        }
      ]
    },
    {
      "cell_type": "markdown",
      "source": [
        "with only using numerical features\n",
        "\n",
        "1. Random forest classifier = 74.59190915542938\n",
        "2. Logistic regression = 77.9985805535841\n",
        "\n",
        "\n",
        "\n",
        "---\n",
        "\n",
        "\n",
        "with only using specific features\n",
        "\n",
        "Random forest classifier = 76.72107877927608\n",
        "\n",
        "Logistic regression = 78.99219304471256\n",
        "\n",
        "**XGB classifier = 79.4889992902768**\n",
        "\n",
        "\n",
        "\n",
        "---\n",
        "with pipeline only using specific features\n",
        "\n",
        "Random forest classifier = 77.2888573456352\n",
        "\n",
        "**Logistic regression = 79.84386089425124**\n",
        "\n",
        "---\n",
        "\n",
        "with all features\n",
        "\n",
        "Random forest classifier = 78.49538679914833\n",
        "\n",
        "Logistic regression = 79.13413768630234\n",
        "\n",
        "XGB classifier = 78.85024840312278"
      ],
      "metadata": {
        "id": "BsfEBLsKgg_6"
      }
    },
    {
      "cell_type": "code",
      "source": [
        "X= df[cols]\n",
        "y= df.churn\n",
        "X = OneHotEncoder().fit_transform(X)\n",
        "print(X.shape)\n",
        "X_train, X_val, y_train , y_val = split(X,y)\n",
        "print('random forest classifier')\n",
        "randommodel(X_train, X_val, y_train , y_val)"
      ],
      "metadata": {
        "colab": {
          "base_uri": "https://localhost:8080/"
        },
        "id": "rJXf5SNytzmW",
        "outputId": "419628dc-14f9-4dd2-ac56-6b7f147b86cc"
      },
      "execution_count": null,
      "outputs": [
        {
          "output_type": "stream",
          "name": "stdout",
          "text": [
            "(7043, 215)\n",
            "random forest classifier\n",
            "ACCURACY:  76.72107877927608\n"
          ]
        }
      ]
    },
    {
      "cell_type": "code",
      "source": [
        "X= df[cols]\n",
        "y= df.churn\n",
        "X = OneHotEncoder().fit_transform(X)\n",
        "print(X.shape)\n",
        "X_train, X_val, y_train , y_val = split(X,y)\n",
        "print('logistic regression')\n",
        "logisticmodel(X_train, X_val, y_train , y_val)"
      ],
      "metadata": {
        "colab": {
          "base_uri": "https://localhost:8080/"
        },
        "id": "fnIie-CGuhNV",
        "outputId": "e21c9d35-fa64-4fe9-dc4d-81065d0fe107"
      },
      "execution_count": null,
      "outputs": [
        {
          "output_type": "stream",
          "name": "stdout",
          "text": [
            "(7043, 215)\n",
            "logistic regression\n",
            "ACCURACY:  78.99219304471256\n"
          ]
        }
      ]
    },
    {
      "cell_type": "markdown",
      "source": [
        "lets test the model\n",
        "\n",
        "we'll use pipeline with logistic regression as it gave the max accuracy"
      ],
      "metadata": {
        "id": "6Yv6UmgKV5yP"
      }
    },
    {
      "cell_type": "code",
      "source": [
        "\n",
        "X = df[cols]\n",
        "\n",
        "#print(X.columns)\n",
        "y = df['churn']\n",
        "\n",
        "#calling model1 with using numerical features\n",
        "\n",
        "full_X_train, X_val, full_y_train, y_val = train_test_split(X,y,test_size=0.2, random_state=0)\n",
        "X_train, X_test, y_train , y_test = train_test_split(full_X_train,full_y_train,test_size=0.25, random_state=0)\n",
        "  \n",
        "\n",
        "\n",
        "# Preprocessing for numerical data\n",
        "numerical_transformer = SimpleImputer(strategy='constant')\n",
        "\n",
        "# Preprocessing for categorical data\n",
        "categorical_transformer = Pipeline(steps=[\n",
        "    ('imputer', SimpleImputer(strategy='most_frequent')),\n",
        "    ('onehot', OneHotEncoder(handle_unknown='ignore'))\n",
        "])\n",
        "\n",
        "model= LogisticRegression(max_iter=100)\n",
        "\n",
        "\n",
        "# Bundle preprocessing for numerical and categorical data\n",
        "preprocessor = ColumnTransformer(\n",
        "    transformers=[\n",
        "        ('num', numerical_transformer, num_cols),\n",
        "        ('cat', categorical_transformer, cat_cols)\n",
        "    ])\n",
        "\n",
        "my_pipeline = Pipeline(steps=[('preprocessor', preprocessor),\n",
        "                              ('model', model)\n",
        "                             ])\n",
        "\n",
        "# Preprocessing of training data, fit model \n",
        "my_pipeline.fit(X_train, y_train)\n",
        "\n",
        "# Preprocessing of validation data, get predictions\n",
        "preds = my_pipeline.predict(X_test)\n",
        "p=preds\n",
        "\n",
        "print('ACCURACY: ',accuracy_score(preds,y_test)*100)"
      ],
      "metadata": {
        "colab": {
          "base_uri": "https://localhost:8080/"
        },
        "id": "p4xnb8pqZchw",
        "outputId": "81773f21-f20f-44c4-cd6f-f8df2a4df339"
      },
      "execution_count": null,
      "outputs": [
        {
          "output_type": "stream",
          "name": "stdout",
          "text": [
            "ACCURACY:  79.98580553584102\n"
          ]
        }
      ]
    },
    {
      "cell_type": "markdown",
      "source": [
        "Accuracy with test set 79.98580553584102\n",
        "\n"
      ],
      "metadata": {
        "id": "ybr29-XCiYlK"
      }
    },
    {
      "cell_type": "code",
      "source": [
        "preds1 = my_pipeline.predict(X_val)"
      ],
      "metadata": {
        "id": "8qY1h_hznWyd"
      },
      "execution_count": null,
      "outputs": []
    },
    {
      "cell_type": "markdown",
      "source": [
        "Now lets check with single data"
      ],
      "metadata": {
        "id": "RC8zusD6ihfm"
      }
    },
    {
      "cell_type": "code",
      "source": [
        "# 10th data\n",
        "\n",
        "customer = X_test.iloc[10]\n",
        "customer"
      ],
      "metadata": {
        "colab": {
          "base_uri": "https://localhost:8080/"
        },
        "id": "jH-5_w6filUk",
        "outputId": "cb9777c7-98ed-4eab-b560-958f65b96826"
      },
      "execution_count": null,
      "outputs": [
        {
          "output_type": "execute_result",
          "data": {
            "text/plain": [
              "seniorcitizen                      0\n",
              "tenure                             7\n",
              "monthlycharges                    79\n",
              "gender                        female\n",
              "partner                           no\n",
              "dependents                        no\n",
              "phoneservice                     yes\n",
              "multiplelines                     no\n",
              "internetservice          fiber_optic\n",
              "onlinesecurity                    no\n",
              "onlinebackup                      no\n",
              "deviceprotection                  no\n",
              "techsupport                       no\n",
              "streamingtv                       no\n",
              "streamingmovies                  yes\n",
              "contract              month-to-month\n",
              "paperlessbilling                 yes\n",
              "paymentmethod       electronic_check\n",
              "Name: 1253, dtype: object"
            ]
          },
          "metadata": {},
          "execution_count": 28
        }
      ]
    },
    {
      "cell_type": "code",
      "source": [
        "customer.shape\n",
        "#(18,)\n",
        "# the reason we are changing it to dataframe is that single data record is considered as 18 rows and is in 1d. We cannot use that to predict the value. \n",
        "#So we are changing it to 2d using dataframe\n",
        "df_small = pd.DataFrame([customer])\n",
        "df_small.shape"
      ],
      "metadata": {
        "colab": {
          "base_uri": "https://localhost:8080/"
        },
        "id": "bsuvJWBJjYTt",
        "outputId": "ec828997-2247-4194-da7f-b65eb098eb83"
      },
      "execution_count": null,
      "outputs": [
        {
          "output_type": "execute_result",
          "data": {
            "text/plain": [
              "(1, 18)"
            ]
          },
          "metadata": {},
          "execution_count": 29
        }
      ]
    },
    {
      "cell_type": "code",
      "source": [
        "preds = my_pipeline.predict(df_small)\n",
        "\n",
        "preds= int(preds)\n",
        "print(\"predicted value: \",preds)\n",
        "print(\"actual value: \",y_test.iloc[10])\n",
        "\n",
        "\n",
        "\n"
      ],
      "metadata": {
        "colab": {
          "base_uri": "https://localhost:8080/"
        },
        "id": "QGDYt3dblHfC",
        "outputId": "e01f0a19-8ada-4082-db2b-5f812c99a9fa"
      },
      "execution_count": null,
      "outputs": [
        {
          "output_type": "stream",
          "name": "stdout",
          "text": [
            "predicted value:  1\n",
            "actual value:  1\n"
          ]
        }
      ]
    },
    {
      "cell_type": "markdown",
      "source": [
        "We'll check for the last data"
      ],
      "metadata": {
        "id": "dgt2p7Ncm0kx"
      }
    },
    {
      "cell_type": "code",
      "source": [
        "customer = X_test.iloc[-1]\n",
        "\n",
        "df_small = pd.DataFrame([customer])\n",
        "df_small.shape\n",
        "\n",
        "preds = my_pipeline.predict(df_small)\n",
        "preds= int(preds)\n",
        "print(\"predicted value: \",preds)\n",
        "print(\"actual value: \",y_test.iloc[-1])"
      ],
      "metadata": {
        "colab": {
          "base_uri": "https://localhost:8080/"
        },
        "id": "hpX9huPgm4AR",
        "outputId": "5bc36b2a-b373-4436-a274-df268179713b"
      },
      "execution_count": null,
      "outputs": [
        {
          "output_type": "stream",
          "name": "stdout",
          "text": [
            "predicted value:  0\n",
            "actual value:  0\n"
          ]
        }
      ]
    },
    {
      "cell_type": "markdown",
      "source": [
        "\n",
        "\n",
        "# **Evaluation Metrics**\n",
        "\n",
        "\n",
        "\n",
        "\n"
      ],
      "metadata": {
        "id": "FTAyKO7aTOum"
      }
    },
    {
      "cell_type": "markdown",
      "source": [
        "We'll continue from the exercise 3 model\n",
        "\n",
        "#1. Accuracy"
      ],
      "metadata": {
        "id": "ymnaJ2YXSHbT"
      }
    },
    {
      "cell_type": "code",
      "source": [
        "y_test.mean()"
      ],
      "metadata": {
        "colab": {
          "base_uri": "https://localhost:8080/"
        },
        "id": "nQLex64BJBCc",
        "outputId": "344ce8a0-6150-417e-84bd-f9e1fe513e2e"
      },
      "execution_count": null,
      "outputs": [
        {
          "output_type": "execute_result",
          "data": {
            "text/plain": [
              "0.2590489709013485"
            ]
          },
          "metadata": {},
          "execution_count": 32
        }
      ]
    },
    {
      "cell_type": "code",
      "source": [
        "1- y_test.mean()"
      ],
      "metadata": {
        "colab": {
          "base_uri": "https://localhost:8080/"
        },
        "id": "gWyNaG_sJLqr",
        "outputId": "87ebede0-2dc7-45cc-9009-b42939ac5fa3"
      },
      "execution_count": null,
      "outputs": [
        {
          "output_type": "execute_result",
          "data": {
            "text/plain": [
              "0.7409510290986515"
            ]
          },
          "metadata": {},
          "execution_count": 33
        }
      ]
    },
    {
      "cell_type": "markdown",
      "source": [
        "in test data it is said that, 25.9 % people are likely to churn and 74% are not churning\n",
        "\n",
        "Lets check for model predicted value"
      ],
      "metadata": {
        "id": "DLFHnFsHJPrF"
      }
    },
    {
      "cell_type": "code",
      "source": [
        "p.mean()"
      ],
      "metadata": {
        "colab": {
          "base_uri": "https://localhost:8080/"
        },
        "id": "EXIYLvXLJkL0",
        "outputId": "14759d8c-73fd-4fb2-b879-47eb52c8ced4"
      },
      "execution_count": null,
      "outputs": [
        {
          "output_type": "execute_result",
          "data": {
            "text/plain": [
              "0.20794889992902768"
            ]
          },
          "metadata": {},
          "execution_count": 34
        }
      ]
    },
    {
      "cell_type": "code",
      "source": [
        "1- p.mean()"
      ],
      "metadata": {
        "colab": {
          "base_uri": "https://localhost:8080/"
        },
        "id": "4niqIig5KiMY",
        "outputId": "5cb1eefd-879e-4285-c0a1-4aed4b142287"
      },
      "execution_count": null,
      "outputs": [
        {
          "output_type": "execute_result",
          "data": {
            "text/plain": [
              "0.7920511000709723"
            ]
          },
          "metadata": {},
          "execution_count": 35
        }
      ]
    },
    {
      "cell_type": "markdown",
      "source": [
        "In our model, 20.7 % people are likely to churn and 79.2 % are not churning"
      ],
      "metadata": {
        "id": "u-J3UF4jKmhs"
      }
    },
    {
      "cell_type": "markdown",
      "source": [
        "## 2.Confusion matrix"
      ],
      "metadata": {
        "id": "Z74r_2MLTtaT"
      }
    },
    {
      "cell_type": "markdown",
      "source": [
        "\n",
        "\n",
        "1.   Different types of errors and correct decisions\n",
        "2. Arranging them in a table\n",
        "\n"
      ],
      "metadata": {
        "id": "dPkRs-NmUyP7"
      }
    },
    {
      "cell_type": "code",
      "source": [
        "actual_positive= (y_val==1)\n",
        "actual_negative= (y_val==0)\n"
      ],
      "metadata": {
        "id": "huXyUsJmTy86"
      },
      "execution_count": null,
      "outputs": []
    },
    {
      "cell_type": "code",
      "source": [
        "t=0.5\n",
        "pred_positive= (preds1>=t)\n",
        "pred_negative=(preds1<t)"
      ],
      "metadata": {
        "id": "_WAMn78eViWp"
      },
      "execution_count": null,
      "outputs": []
    },
    {
      "cell_type": "code",
      "source": [
        "tp= (pred_positive & actual_positive).sum()\n",
        "tn= (pred_negative & actual_negative).sum()\n",
        "fn= (pred_negative & actual_positive).sum()\n",
        "fp= (pred_positive & actual_negative).sum()\n"
      ],
      "metadata": {
        "id": "r57h_ZMKVrpi"
      },
      "execution_count": null,
      "outputs": []
    },
    {
      "cell_type": "code",
      "source": [
        "confusion_matrix = np.array([[tp,fn]\n",
        "                             ,[fp,tn]])\n",
        "confusion_matrix"
      ],
      "metadata": {
        "colab": {
          "base_uri": "https://localhost:8080/"
        },
        "id": "n3i1R_4HWq6k",
        "outputId": "39b52383-c597-4ebc-bf3f-c02d673017d5"
      },
      "execution_count": null,
      "outputs": [
        {
          "output_type": "execute_result",
          "data": {
            "text/plain": [
              "array([[190, 178],\n",
              "       [106, 935]])"
            ]
          },
          "metadata": {},
          "execution_count": 39
        }
      ]
    },
    {
      "cell_type": "code",
      "source": [
        "(confusion_matrix / confusion_matrix.sum()).round(2)"
      ],
      "metadata": {
        "colab": {
          "base_uri": "https://localhost:8080/"
        },
        "id": "asie8gEkXKxe",
        "outputId": "ffdd0b5b-2482-4795-dba3-98f8a7320987"
      },
      "execution_count": null,
      "outputs": [
        {
          "output_type": "execute_result",
          "data": {
            "text/plain": [
              "array([[0.13, 0.13],\n",
              "       [0.08, 0.66]])"
            ]
          },
          "metadata": {},
          "execution_count": 40
        }
      ]
    },
    {
      "cell_type": "markdown",
      "source": [
        "66% wont churn, 13% will churn, 8% will not churn but we are sending discounts to them(fp), 13% will churn (fn)"
      ],
      "metadata": {
        "id": "SScFh13CX10x"
      }
    },
    {
      "cell_type": "markdown",
      "source": [
        "# Precison and Recall"
      ],
      "metadata": {
        "id": "40urMU9fYeDo"
      }
    },
    {
      "cell_type": "markdown",
      "source": [
        "precision - fraction of positive prediction that are correct\n",
        "\n",
        "recall - fraction of correctly identified positive examples"
      ],
      "metadata": {
        "id": "C7yMG-dukn4_"
      }
    },
    {
      "cell_type": "code",
      "source": [
        "precision = tp/(tp+fp)\n",
        "precision"
      ],
      "metadata": {
        "colab": {
          "base_uri": "https://localhost:8080/"
        },
        "id": "sap1euplZT6n",
        "outputId": "d691fc79-fce9-4293-9ea1-011387d43d37"
      },
      "execution_count": null,
      "outputs": [
        {
          "output_type": "execute_result",
          "data": {
            "text/plain": [
              "0.6418918918918919"
            ]
          },
          "metadata": {},
          "execution_count": 41
        }
      ]
    },
    {
      "cell_type": "code",
      "source": [
        "tp+fp"
      ],
      "metadata": {
        "colab": {
          "base_uri": "https://localhost:8080/"
        },
        "id": "7QY_ZzYjlrCP",
        "outputId": "fdbd67ec-eb2e-47e1-ce66-44f9bda0c977"
      },
      "execution_count": null,
      "outputs": [
        {
          "output_type": "execute_result",
          "data": {
            "text/plain": [
              "296"
            ]
          },
          "metadata": {},
          "execution_count": 42
        }
      ]
    },
    {
      "cell_type": "code",
      "source": [
        "tp"
      ],
      "metadata": {
        "colab": {
          "base_uri": "https://localhost:8080/"
        },
        "id": "jsyQNVuultjL",
        "outputId": "03c451e3-6ea4-45a7-e1b1-6fe10a623384"
      },
      "execution_count": null,
      "outputs": [
        {
          "output_type": "execute_result",
          "data": {
            "text/plain": [
              "190"
            ]
          },
          "metadata": {},
          "execution_count": 43
        }
      ]
    },
    {
      "cell_type": "markdown",
      "source": [
        "Precision denotes we are going to send promotion emails to 296 people and only 190 people are likely to churn (64%)\n",
        "\n",
        "36% are false...."
      ],
      "metadata": {
        "id": "tIwEsVSGmCUi"
      }
    },
    {
      "cell_type": "code",
      "source": [
        "r = tp / (tp + fn)\n",
        "r"
      ],
      "metadata": {
        "colab": {
          "base_uri": "https://localhost:8080/"
        },
        "id": "hby5Ej26j5yo",
        "outputId": "c588328f-8e94-4d1f-f5b3-d5f239ba7aaa"
      },
      "execution_count": null,
      "outputs": [
        {
          "output_type": "execute_result",
          "data": {
            "text/plain": [
              "0.5163043478260869"
            ]
          },
          "metadata": {},
          "execution_count": 44
        }
      ]
    },
    {
      "cell_type": "code",
      "source": [
        "tp+fn"
      ],
      "metadata": {
        "colab": {
          "base_uri": "https://localhost:8080/"
        },
        "id": "9IIFV_9enDEU",
        "outputId": "6689d119-1417-441d-b427-71b9ca0fa4ce"
      },
      "execution_count": null,
      "outputs": [
        {
          "output_type": "execute_result",
          "data": {
            "text/plain": [
              "368"
            ]
          },
          "metadata": {},
          "execution_count": 45
        }
      ]
    },
    {
      "cell_type": "markdown",
      "source": [
        "51.6 % we are sending promotional mails but 48.4% we have failed to send\n",
        "\n",
        "Acuuracy we got is 80% almost but when we look at precisiona and recall, it was not good. Accuracy can be sometimes misleading"
      ],
      "metadata": {
        "id": "Gs3W7rDNnFuz"
      }
    },
    {
      "cell_type": "markdown",
      "source": [
        "Using sklearn methods"
      ],
      "metadata": {
        "id": "pyq3_cEKrKDu"
      }
    },
    {
      "cell_type": "code",
      "source": [
        "from sklearn.metrics import classification_report\n",
        "print(classification_report(y_val, preds1))"
      ],
      "metadata": {
        "id": "hPy-2nkjruuC",
        "colab": {
          "base_uri": "https://localhost:8080/"
        },
        "outputId": "c1fe3cce-13e6-431d-c8c6-14141e31f191"
      },
      "execution_count": null,
      "outputs": [
        {
          "output_type": "stream",
          "name": "stdout",
          "text": [
            "              precision    recall  f1-score   support\n",
            "\n",
            "           0       0.84      0.90      0.87      1041\n",
            "           1       0.64      0.52      0.57       368\n",
            "\n",
            "    accuracy                           0.80      1409\n",
            "   macro avg       0.74      0.71      0.72      1409\n",
            "weighted avg       0.79      0.80      0.79      1409\n",
            "\n"
          ]
        }
      ]
    },
    {
      "cell_type": "code",
      "source": [
        "#confusion matrix\n",
        "from sklearn.metrics import confusion_matrix\n",
        "#predc = pd.Series(preds1)\n",
        "#r= y_val.to_numpy\n",
        "confusion_matrix(y_val,preds1)\n",
        "#pd.crosstab(y_val, preds1, rownames = ['Actual'], colnames =['Predicted'], margins = True)\n"
      ],
      "metadata": {
        "colab": {
          "base_uri": "https://localhost:8080/"
        },
        "id": "k2S7w8y3rJjz",
        "outputId": "53bcbabe-abb8-4761-b0e2-46ea9a922ba4"
      },
      "execution_count": null,
      "outputs": [
        {
          "output_type": "execute_result",
          "data": {
            "text/plain": [
              "array([[935, 106],\n",
              "       [178, 190]])"
            ]
          },
          "metadata": {},
          "execution_count": 47
        }
      ]
    },
    {
      "cell_type": "markdown",
      "source": [
        "# ROC and AUC score\n",
        "\n",
        "ROC stands for receiver opearting characteristic curve \n",
        "AUC- Area under curve (should be >0.6)"
      ],
      "metadata": {
        "id": "z7CWqPPc3rXz"
      }
    },
    {
      "cell_type": "code",
      "source": [
        "#ROC curve\n",
        "\n",
        "from sklearn.metrics import roc_curve\n",
        "\n",
        "fpr, tpr, thresholds = roc_curve(y_val, preds1)\n",
        "\n",
        "plt.figure(figsize=(5, 5))\n",
        "\n",
        "plt.plot(fpr, tpr, label='Model')\n",
        "plt.plot([0, 1], [0, 1], label='Random', linestyle='--')\n",
        "\n",
        "plt.xlabel('FPR')\n",
        "plt.ylabel('TPR')\n",
        "\n",
        "plt.legend()"
      ],
      "metadata": {
        "colab": {
          "base_uri": "https://localhost:8080/"
        },
        "id": "SAyiUpFd2Dd3",
        "outputId": "143c8d47-3f94-41b0-b729-91ef147a7482"
      },
      "execution_count": null,
      "outputs": [
        {
          "output_type": "execute_result",
          "data": {
            "text/plain": [
              "<matplotlib.legend.Legend at 0x7fa999431d90>"
            ]
          },
          "metadata": {},
          "execution_count": 48
        },
        {
          "output_type": "display_data",
          "data": {
            "text/plain": [
              "<Figure size 360x360 with 1 Axes>"
            ],
            "image/png": "[encoded data removed]"
          },
          "metadata": {
            "needs_background": "light"
          }
        }
      ]
    },
    {
      "cell_type": "code",
      "source": [
        "#AUC score\n",
        "\n",
        "from sklearn.metrics import roc_auc_score\n",
        "roc_auc_score(y_val, preds1)"
      ],
      "metadata": {
        "colab": {
          "base_uri": "https://localhost:8080/"
        },
        "id": "57LpxgoH3QwU",
        "outputId": "c5ce37af-9c4b-418b-d802-cff18c86abd4"
      },
      "execution_count": null,
      "outputs": [
        {
          "output_type": "execute_result",
          "data": {
            "text/plain": [
              "0.707239589859249"
            ]
          },
          "metadata": {},
          "execution_count": 49
        }
      ]
    },
    {
      "cell_type": "markdown",
      "source": [
        "# Cross Validation"
      ],
      "metadata": {
        "id": "QBoq_bsh3mNV"
      }
    },
    {
      "cell_type": "code",
      "source": [
        "from sklearn.pipeline import Pipeline\n",
        "\n",
        "X = df[cols]\n",
        "\n",
        "#print(X.columns)\n",
        "y = df['churn']\n",
        "X = OneHotEncoder().fit_transform(X)\n",
        "#X_train, X_val, y_train , y_val = split(X,y)\n",
        "\n",
        "model = LogisticRegression(solver='liblinear', C=1.0, max_iter=1000)"
      ],
      "metadata": {
        "id": "s5fQSsYr4D7k"
      },
      "execution_count": null,
      "outputs": []
    },
    {
      "cell_type": "code",
      "source": [
        "from sklearn.model_selection import cross_val_score\n",
        "\n",
        "k_scores=[]\n",
        "\n",
        "score = cross_val_score(model,X,y,cv=5,scoring='roc_auc')\n",
        "k_scores.append(score)\n",
        "print(score)"
      ],
      "metadata": {
        "colab": {
          "base_uri": "https://localhost:8080/"
        },
        "id": "lR7kRYOP806p",
        "outputId": "62d29b90-d5ee-4ba1-b874-b7a82f7cd4aa"
      },
      "execution_count": null,
      "outputs": [
        {
          "output_type": "stream",
          "name": "stdout",
          "text": [
            "[0.84966674 0.85597794 0.82101966 0.8375905  0.83370225]\n"
          ]
        }
      ]
    },
    {
      "cell_type": "code",
      "source": [
        "print('%.3f +- %.3f' % (np.mean(k_scores), np.std(k_scores)))"
      ],
      "metadata": {
        "colab": {
          "base_uri": "https://localhost:8080/"
        },
        "id": "jpycPGjg83pv",
        "outputId": "29850843-ceb0-4c24-f8b5-1743b37b8ea0"
      },
      "execution_count": null,
      "outputs": [
        {
          "output_type": "stream",
          "name": "stdout",
          "text": [
            "0.840 +- 0.012\n"
          ]
        }
      ]
    },
    {
      "cell_type": "markdown",
      "source": [
        "This indicates the mean of auc and std of auc\n",
        "\n",
        "If auc gets around 1, it is a good model. In our case its 0.84\n",
        "\n",
        "We can change the C value at different values and get the best value where the mean comes around 1 like how we did in homework exercise"
      ],
      "metadata": {
        "id": "dGT_DRJq9CyL"
      }
    }
  ]
}