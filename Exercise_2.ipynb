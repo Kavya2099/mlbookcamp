{
  "nbformat": 4,
  "nbformat_minor": 0,
  "metadata": {
    "colab": {
      "provenance": [],
      "collapsed_sections": [],
      "authorship_tag": "ABX9TyOOo2+OYPT2DIQx4YT3/6sb",
      "include_colab_link": true
    },
    "kernelspec": {
      "name": "python3",
      "display_name": "Python 3"
    },
    "language_info": {
      "name": "python"
    }
  },
  "cells": [
    {
      "cell_type": "markdown",
      "metadata": {
        "id": "view-in-github",
        "colab_type": "text"
      },
      "source": [
        "<a href=\"https://colab.research.google.com/github/Kavya2099/mlbookcamp/blob/main/Exercise_2.ipynb\" target=\"_parent\"><img src=\"https://colab.research.google.com/assets/colab-badge.svg\" alt=\"Open In Colab\"/></a>"
      ]
    },
    {
      "cell_type": "markdown",
      "source": [
        "Data set"
      ],
      "metadata": {
        "id": "NgnareHFtaQn"
      }
    },
    {
      "cell_type": "code",
      "source": [
        "data = 'https://raw.githubusercontent.com/alexeygrigorev/datasets/master/housing.csv'\n",
        "!wget $data"
      ],
      "metadata": {
        "colab": {
          "base_uri": "https://localhost:8080/"
        },
        "id": "h59tJSOkteu6",
        "outputId": "879c59ea-82e7-462f-a120-4f988b6f347e"
      },
      "execution_count": null,
      "outputs": [
        {
          "output_type": "stream",
          "name": "stdout",
          "text": [
            "--2022-09-19 03:07:46--  https://raw.githubusercontent.com/alexeygrigorev/datasets/master/housing.csv\n",
            "Resolving raw.githubusercontent.com (raw.githubusercontent.com)... 185.199.108.133, 185.199.111.133, 185.199.109.133, ...\n",
            "Connecting to raw.githubusercontent.com (raw.githubusercontent.com)|185.199.108.133|:443... connected.\n",
            "HTTP request sent, awaiting response... 200 OK\n",
            "Length: 1423529 (1.4M) [text/plain]\n",
            "Saving to: ‘housing.csv’\n",
            "\n",
            "\rhousing.csv           0%[                    ]       0  --.-KB/s               \rhousing.csv         100%[===================>]   1.36M  --.-KB/s    in 0.008s  \n",
            "\n",
            "2022-09-19 03:07:46 (162 MB/s) - ‘housing.csv’ saved [1423529/1423529]\n",
            "\n"
          ]
        }
      ]
    },
    {
      "cell_type": "code",
      "source": [
        "%matplotlib inline\n",
        "\n",
        "import pandas as pd\n",
        "import numpy as np\n",
        "\n",
        "import matplotlib.pyplot as plt\n",
        "import seaborn as sns"
      ],
      "metadata": {
        "id": "L81Lu6FTt4b6"
      },
      "execution_count": null,
      "outputs": []
    },
    {
      "cell_type": "code",
      "source": [
        "house= pd.read_csv(data)\n",
        "house.head()"
      ],
      "metadata": {
        "colab": {
          "base_uri": "https://localhost:8080/",
          "height": 206
        },
        "id": "xBOVBlkTuKOa",
        "outputId": "4db88bc8-617e-4dee-c784-4028c66abefe"
      },
      "execution_count": null,
      "outputs": [
        {
          "output_type": "execute_result",
          "data": {
            "text/plain": [
              "   longitude  latitude  housing_median_age  total_rooms  total_bedrooms  \\\n",
              "0    -122.23     37.88                41.0        880.0           129.0   \n",
              "1    -122.22     37.86                21.0       7099.0          1106.0   \n",
              "2    -122.24     37.85                52.0       1467.0           190.0   \n",
              "3    -122.25     37.85                52.0       1274.0           235.0   \n",
              "4    -122.25     37.85                52.0       1627.0           280.0   \n",
              "\n",
              "   population  households  median_income  median_house_value ocean_proximity  \n",
              "0       322.0       126.0         8.3252            452600.0        NEAR BAY  \n",
              "1      2401.0      1138.0         8.3014            358500.0        NEAR BAY  \n",
              "2       496.0       177.0         7.2574            352100.0        NEAR BAY  \n",
              "3       558.0       219.0         5.6431            341300.0        NEAR BAY  \n",
              "4       565.0       259.0         3.8462            342200.0        NEAR BAY  "
            ],
            "text/html": [
              "\n",
              "  <div id=\"df-dbf610cc-0a98-4998-9ac8-1abe44f8ae8f\">\n",
              "    <div class=\"colab-df-container\">\n",
              "      <div>\n",
              "<style scoped>\n",
              "    .dataframe tbody tr th:only-of-type {\n",
              "        vertical-align: middle;\n",
              "    }\n",
              "\n",
              "    .dataframe tbody tr th {\n",
              "        vertical-align: top;\n",
              "    }\n",
              "\n",
              "    .dataframe thead th {\n",
              "        text-align: right;\n",
              "    }\n",
              "</style>\n",
              "<table border=\"1\" class=\"dataframe\">\n",
              "  <thead>\n",
              "    <tr style=\"text-align: right;\">\n",
              "      <th></th>\n",
              "      <th>longitude</th>\n",
              "      <th>latitude</th>\n",
              "      <th>housing_median_age</th>\n",
              "      <th>total_rooms</th>\n",
              "      <th>total_bedrooms</th>\n",
              "      <th>population</th>\n",
              "      <th>households</th>\n",
              "      <th>median_income</th>\n",
              "      <th>median_house_value</th>\n",
              "      <th>ocean_proximity</th>\n",
              "    </tr>\n",
              "  </thead>\n",
              "  <tbody>\n",
              "    <tr>\n",
              "      <th>0</th>\n",
              "      <td>-122.23</td>\n",
              "      <td>37.88</td>\n",
              "      <td>41.0</td>\n",
              "      <td>880.0</td>\n",
              "      <td>129.0</td>\n",
              "      <td>322.0</td>\n",
              "      <td>126.0</td>\n",
              "      <td>8.3252</td>\n",
              "      <td>452600.0</td>\n",
              "      <td>NEAR BAY</td>\n",
              "    </tr>\n",
              "    <tr>\n",
              "      <th>1</th>\n",
              "      <td>-122.22</td>\n",
              "      <td>37.86</td>\n",
              "      <td>21.0</td>\n",
              "      <td>7099.0</td>\n",
              "      <td>1106.0</td>\n",
              "      <td>2401.0</td>\n",
              "      <td>1138.0</td>\n",
              "      <td>8.3014</td>\n",
              "      <td>358500.0</td>\n",
              "      <td>NEAR BAY</td>\n",
              "    </tr>\n",
              "    <tr>\n",
              "      <th>2</th>\n",
              "      <td>-122.24</td>\n",
              "      <td>37.85</td>\n",
              "      <td>52.0</td>\n",
              "      <td>1467.0</td>\n",
              "      <td>190.0</td>\n",
              "      <td>496.0</td>\n",
              "      <td>177.0</td>\n",
              "      <td>7.2574</td>\n",
              "      <td>352100.0</td>\n",
              "      <td>NEAR BAY</td>\n",
              "    </tr>\n",
              "    <tr>\n",
              "      <th>3</th>\n",
              "      <td>-122.25</td>\n",
              "      <td>37.85</td>\n",
              "      <td>52.0</td>\n",
              "      <td>1274.0</td>\n",
              "      <td>235.0</td>\n",
              "      <td>558.0</td>\n",
              "      <td>219.0</td>\n",
              "      <td>5.6431</td>\n",
              "      <td>341300.0</td>\n",
              "      <td>NEAR BAY</td>\n",
              "    </tr>\n",
              "    <tr>\n",
              "      <th>4</th>\n",
              "      <td>-122.25</td>\n",
              "      <td>37.85</td>\n",
              "      <td>52.0</td>\n",
              "      <td>1627.0</td>\n",
              "      <td>280.0</td>\n",
              "      <td>565.0</td>\n",
              "      <td>259.0</td>\n",
              "      <td>3.8462</td>\n",
              "      <td>342200.0</td>\n",
              "      <td>NEAR BAY</td>\n",
              "    </tr>\n",
              "  </tbody>\n",
              "</table>\n",
              "</div>\n",
              "      <button class=\"colab-df-convert\" onclick=\"convertToInteractive('df-dbf610cc-0a98-4998-9ac8-1abe44f8ae8f')\"\n",
              "              title=\"Convert this dataframe to an interactive table.\"\n",
              "              style=\"display:none;\">\n",
              "        \n",
              "  <svg xmlns=\"http://www.w3.org/2000/svg\" height=\"24px\"viewBox=\"0 0 24 24\"\n",
              "       width=\"24px\">\n",
              "    <path d=\"M0 0h24v24H0V0z\" fill=\"none\"/>\n",
              "    <path d=\"M18.56 5.44l.94 2.06.94-2.06 2.06-.94-2.06-.94-.94-2.06-.94 2.06-2.06.94zm-11 1L8.5 8.5l.94-2.06 2.06-.94-2.06-.94L8.5 2.5l-.94 2.06-2.06.94zm10 10l.94 2.06.94-2.06 2.06-.94-2.06-.94-.94-2.06-.94 2.06-2.06.94z\"/><path d=\"M17.41 7.96l-1.37-1.37c-.4-.4-.92-.59-1.43-.59-.52 0-1.04.2-1.43.59L10.3 9.45l-7.72 7.72c-.78.78-.78 2.05 0 2.83L4 21.41c.39.39.9.59 1.41.59.51 0 1.02-.2 1.41-.59l7.78-7.78 2.81-2.81c.8-.78.8-2.07 0-2.86zM5.41 20L4 18.59l7.72-7.72 1.47 1.35L5.41 20z\"/>\n",
              "  </svg>\n",
              "      </button>\n",
              "      \n",
              "  <style>\n",
              "    .colab-df-container {\n",
              "      display:flex;\n",
              "      flex-wrap:wrap;\n",
              "      gap: 12px;\n",
              "    }\n",
              "\n",
              "    .colab-df-convert {\n",
              "      background-color: #E8F0FE;\n",
              "      border: none;\n",
              "      border-radius: 50%;\n",
              "      cursor: pointer;\n",
              "      display: none;\n",
              "      fill: #1967D2;\n",
              "      height: 32px;\n",
              "      padding: 0 0 0 0;\n",
              "      width: 32px;\n",
              "    }\n",
              "\n",
              "    .colab-df-convert:hover {\n",
              "      background-color: #E2EBFA;\n",
              "      box-shadow: 0px 1px 2px rgba(60, 64, 67, 0.3), 0px 1px 3px 1px rgba(60, 64, 67, 0.15);\n",
              "      fill: #174EA6;\n",
              "    }\n",
              "\n",
              "    [theme=dark] .colab-df-convert {\n",
              "      background-color: #3B4455;\n",
              "      fill: #D2E3FC;\n",
              "    }\n",
              "\n",
              "    [theme=dark] .colab-df-convert:hover {\n",
              "      background-color: #434B5C;\n",
              "      box-shadow: 0px 1px 3px 1px rgba(0, 0, 0, 0.15);\n",
              "      filter: drop-shadow(0px 1px 2px rgba(0, 0, 0, 0.3));\n",
              "      fill: #FFFFFF;\n",
              "    }\n",
              "  </style>\n",
              "\n",
              "      <script>\n",
              "        const buttonEl =\n",
              "          document.querySelector('#df-dbf610cc-0a98-4998-9ac8-1abe44f8ae8f button.colab-df-convert');\n",
              "        buttonEl.style.display =\n",
              "          google.colab.kernel.accessAllowed ? 'block' : 'none';\n",
              "\n",
              "        async function convertToInteractive(key) {\n",
              "          const element = document.querySelector('#df-dbf610cc-0a98-4998-9ac8-1abe44f8ae8f');\n",
              "          const dataTable =\n",
              "            await google.colab.kernel.invokeFunction('convertToInteractive',\n",
              "                                                     [key], {});\n",
              "          if (!dataTable) return;\n",
              "\n",
              "          const docLinkHtml = 'Like what you see? Visit the ' +\n",
              "            '<a target=\"_blank\" href=https://colab.research.google.com/notebooks/data_table.ipynb>data table notebook</a>'\n",
              "            + ' to learn more about interactive tables.';\n",
              "          element.innerHTML = '';\n",
              "          dataTable['output_type'] = 'display_data';\n",
              "          await google.colab.output.renderOutput(dataTable, element);\n",
              "          const docLink = document.createElement('div');\n",
              "          docLink.innerHTML = docLinkHtml;\n",
              "          element.appendChild(docLink);\n",
              "        }\n",
              "      </script>\n",
              "    </div>\n",
              "  </div>\n",
              "  "
            ]
          },
          "metadata": {},
          "execution_count": 6
        }
      ]
    },
    {
      "cell_type": "code",
      "source": [
        "sns.histplot(house.median_house_value,bins=50)"
      ],
      "metadata": {
        "colab": {
          "base_uri": "https://localhost:8080/",
          "height": 297
        },
        "id": "I7vgTArsul6H",
        "outputId": "b85c9e03-6ea8-489c-f775-dff6074c71b7"
      },
      "execution_count": null,
      "outputs": [
        {
          "output_type": "execute_result",
          "data": {
            "text/plain": [
              "<matplotlib.axes._subplots.AxesSubplot at 0x7f73d3e2bc90>"
            ]
          },
          "metadata": {},
          "execution_count": 8
        },
        {
          "output_type": "display_data",
          "data": {
            "text/plain": [
              "<Figure size 432x288 with 1 Axes>"
            ],
            "image/png": "[encoded data removed]"
          },
          "metadata": {
            "needs_background": "light"
          }
        }
      ]
    },
    {
      "cell_type": "code",
      "source": [
        "features=['latitude','longitude','housing_median_age','total_rooms','total_bedrooms','population','households','median_income']\n",
        "\n",
        "h=house[features]"
      ],
      "metadata": {
        "id": "v2Xunbd0uw8J"
      },
      "execution_count": null,
      "outputs": []
    },
    {
      "cell_type": "markdown",
      "source": [
        "Question 1\n",
        "Find a feature with missing values. How many missing values does it have?"
      ],
      "metadata": {
        "id": "lmPvu0YNt9Fp"
      }
    },
    {
      "cell_type": "code",
      "source": [
        "h.isnull().sum()"
      ],
      "metadata": {
        "colab": {
          "base_uri": "https://localhost:8080/"
        },
        "id": "6bYTydLtvMz5",
        "outputId": "3ab94915-beac-446d-c0d7-35f4fee32f59"
      },
      "execution_count": null,
      "outputs": [
        {
          "output_type": "execute_result",
          "data": {
            "text/plain": [
              "latitude                0\n",
              "longitude               0\n",
              "housing_median_age      0\n",
              "total_rooms             0\n",
              "total_bedrooms        207\n",
              "population              0\n",
              "households              0\n",
              "median_income           0\n",
              "dtype: int64"
            ]
          },
          "metadata": {},
          "execution_count": 14
        }
      ]
    },
    {
      "cell_type": "markdown",
      "source": [
        "total_bedrooms has 207 missing values"
      ],
      "metadata": {
        "id": "SW4FJuNMvW3K"
      }
    },
    {
      "cell_type": "markdown",
      "source": [
        "\n",
        "question 2\n",
        "What's the median (50% percentile) for variable 'population'?"
      ],
      "metadata": {
        "id": "49fBXx02vcNS"
      }
    },
    {
      "cell_type": "code",
      "source": [
        "h.population.median()"
      ],
      "metadata": {
        "colab": {
          "base_uri": "https://localhost:8080/"
        },
        "id": "v2AiREbbvfUq",
        "outputId": "3c982bdb-738e-44df-d94e-644b5f1bcdbc"
      },
      "execution_count": null,
      "outputs": [
        {
          "output_type": "execute_result",
          "data": {
            "text/plain": [
              "1166.0"
            ]
          },
          "metadata": {},
          "execution_count": 12
        }
      ]
    },
    {
      "cell_type": "markdown",
      "source": [
        "Question 3"
      ],
      "metadata": {
        "id": "MzuQXbu3voC5"
      }
    },
    {
      "cell_type": "code",
      "source": [
        "from sklearn.model_selection import train_test_split\n",
        "from sklearn.ensemble import RandomForestRegressor\n",
        "from sklearn.metrics import mean_squared_error\n",
        "from sklearn.metrics import mean_absolute_error\n",
        "\n",
        "\n",
        "\n",
        "X= h\n",
        "y= house.median_house_value\n",
        "\n",
        "\n",
        "\n",
        "\n",
        "\n"
      ],
      "metadata": {
        "id": "71QJbm9KwR46"
      },
      "execution_count": null,
      "outputs": []
    },
    {
      "cell_type": "markdown",
      "source": [
        "filling with 0 in missing columns"
      ],
      "metadata": {
        "id": "4K4m3ZsnxDii"
      }
    },
    {
      "cell_type": "code",
      "source": [
        "X= X.fillna(0)\n",
        "\n",
        "train_X, val_X, train_y, val_y = train_test_split(X, y,test_size=0.2,random_state = 42)\n",
        "\n",
        "# Use the same function above for the validation set\n",
        "train_X, test_X, train_y, test_y = train_test_split(train_X, train_y, test_size=0.25,random_state = 42)\n",
        "\n",
        "\n",
        "forest_model= RandomForestRegressor(random_state=2)\n",
        "forest_model.fit(train_X, train_y)\n",
        "preds= forest_model.predict(val_X)\n",
        "\n",
        "\n",
        "print(mean_absolute_error(val_y, preds))\n",
        "val_y_1= np.log1p(val_y)\n",
        "preds_1= np.log1p(preds)\n",
        "print(np.round(mean_squared_error(val_y_1, preds_1,squared=False),2))\n"
      ],
      "metadata": {
        "colab": {
          "base_uri": "https://localhost:8080/"
        },
        "id": "qTcG7cCmxKAb",
        "outputId": "8aa98874-5b6e-4461-eb24-bb747521a266"
      },
      "execution_count": null,
      "outputs": [
        {
          "output_type": "stream",
          "name": "stdout",
          "text": [
            "33444.75289244186\n",
            "0.24\n"
          ]
        }
      ]
    },
    {
      "cell_type": "markdown",
      "source": [
        "refilling missing values with mean"
      ],
      "metadata": {
        "id": "kwFsvguXyW3q"
      }
    },
    {
      "cell_type": "code",
      "source": [
        "X=h\n",
        "mean= h.mean()\n",
        "X= X.fillna(mean)\n",
        "\n",
        "\n",
        "train_X, val_X, train_y, val_y = train_test_split(X, y,test_size=0.2,random_state = 42)\n",
        "\n",
        "# Use the same function above for the validation set\n",
        "train_X, test_X, train_y, test_y = train_test_split(train_X, train_y, test_size=0.25,random_state = 42)\n",
        "\n",
        "\n",
        "forest_model= RandomForestRegressor(random_state=2)\n",
        "forest_model.fit(train_X, train_y)\n",
        "preds= forest_model.predict(val_X)\n",
        "\n",
        "\n",
        "print(mean_absolute_error(val_y, preds))\n",
        "val_y_1= np.log1p(val_y)\n",
        "preds_1= np.log1p(preds)\n",
        "print(np.round(mean_squared_error(val_y_1, preds_1,squared=False),2))"
      ],
      "metadata": {
        "colab": {
          "base_uri": "https://localhost:8080/"
        },
        "id": "FW2EB1CsybfB",
        "outputId": "b53870f3-0a66-4427-bef2-84d0ef440ab4"
      },
      "execution_count": null,
      "outputs": [
        {
          "output_type": "stream",
          "name": "stdout",
          "text": [
            "33379.686644864334\n",
            "0.24\n"
          ]
        }
      ]
    },
    {
      "cell_type": "markdown",
      "source": [
        "both shows same rse"
      ],
      "metadata": {
        "id": "LDBZbx3izQpI"
      }
    },
    {
      "cell_type": "markdown",
      "source": [
        "Question 5\n"
      ],
      "metadata": {
        "id": "6dl3cmNozTPi"
      }
    },
    {
      "cell_type": "code",
      "source": [
        "X= X.fillna(0)\n",
        "\n",
        "def seed(s):\n",
        "\n",
        "  train_X, val_X, train_y, val_y = train_test_split(X, y,test_size=0.2,random_state = s)\n",
        "\n",
        "# Use the same function above for the validation set\n",
        "  train_X, test_X, train_y, test_y = train_test_split(train_X, train_y, test_size=0.25,random_state = s)\n",
        "\n",
        "\n",
        "  forest_model= RandomForestRegressor(random_state=2)\n",
        "  forest_model.fit(train_X, train_y)\n",
        "  preds= forest_model.predict(val_X)\n",
        "\n",
        "\n",
        "  print(mean_absolute_error(val_y, preds))\n",
        "  val_y_1= np.log1p(val_y)\n",
        "  preds_1= np.log1p(preds)\n",
        "  mse= mean_squared_error(val_y_1, preds_1,squared=False)\n",
        "  print(mse)\n",
        "  return mse\n",
        "\n",
        "\n",
        "\n",
        "s=[0, 1, 2, 3, 4, 5, 6, 7, 8, 9]\n",
        "avg=[]\n",
        "\n",
        "for i in s:\n",
        "  mse= seed(i)\n",
        "  avg.append(mse)\n",
        "\n",
        "avg1= np.std(avg)\n",
        "print(round(avg1,3))\n",
        "\n"
      ],
      "metadata": {
        "colab": {
          "base_uri": "https://localhost:8080/"
        },
        "id": "GYHmRD5Q0lw9",
        "outputId": "26b4e6b4-d439-4a6a-9f4c-d0436c54324f"
      },
      "execution_count": null,
      "outputs": [
        {
          "output_type": "stream",
          "name": "stdout",
          "text": [
            "33299.663408430235\n",
            "0.24390082856527134\n",
            "32334.754408914727\n",
            "0.2448348659779187\n",
            "33072.84269379845\n",
            "0.24136254022645431\n",
            "32258.668389050392\n",
            "0.23177516730953052\n",
            "32814.285210755814\n",
            "0.23608882709980306\n",
            "32878.12113129845\n",
            "0.2392698622992992\n",
            "33232.5033502907\n",
            "0.24005725726184976\n",
            "32704.895162306206\n",
            "0.24088439809119533\n",
            "32919.26653100776\n",
            "0.24408329723792155\n",
            "33134.17563226744\n",
            "0.23988354003632426\n",
            "0.004\n"
          ]
        }
      ]
    },
    {
      "cell_type": "markdown",
      "source": [
        "std we got is 0.004 ; nearest answer is 0.005"
      ],
      "metadata": {
        "id": "RuTKCGvP233O"
      }
    },
    {
      "cell_type": "markdown",
      "source": [
        "Question 6"
      ],
      "metadata": {
        "id": "G9wijXiG29IN"
      }
    },
    {
      "cell_type": "markdown",
      "source": [
        "from the last qeuestion we got the seed 9 value. so we'll use the same here"
      ],
      "metadata": {
        "id": "ldQxeTtu3cO-"
      }
    },
    {
      "cell_type": "markdown",
      "source": [
        "\n",
        "1.   33134.17563226744  --> mae\n",
        "2.   0.23988354003632426 ---> mse\n",
        "\n"
      ],
      "metadata": {
        "id": "TUtE-Ki03kH-"
      }
    },
    {
      "cell_type": "markdown",
      "source": [
        "the nearest answer to this is 0.245"
      ],
      "metadata": {
        "id": "4zvtq0q43zCi"
      }
    }
  ]
}