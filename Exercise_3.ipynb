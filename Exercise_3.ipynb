{
  "nbformat": 4,
  "nbformat_minor": 0,
  "metadata": {
    "colab": {
      "provenance": [],
      "collapsed_sections": [],
      "authorship_tag": "ABX9TyP2Vy4llGUZOcH7Qf/GyHxz",
      "include_colab_link": true
    },
    "kernelspec": {
      "name": "python3",
      "display_name": "Python 3"
    },
    "language_info": {
      "name": "python"
    }
  },
  "cells": [
    {
      "cell_type": "markdown",
      "metadata": {
        "id": "view-in-github",
        "colab_type": "text"
      },
      "source": [
        "<a href=\"https://colab.research.google.com/github/Kavya2099/mlbookcamp/blob/main/Exercise_3.ipynb\" target=\"_parent\"><img src=\"https://colab.research.google.com/assets/colab-badge.svg\" alt=\"Open In Colab\"/></a>"
      ]
    },
    {
      "cell_type": "markdown",
      "source": [
        "get data"
      ],
      "metadata": {
        "id": "LpJylCGm-ztp"
      }
    },
    {
      "cell_type": "code",
      "execution_count": 80,
      "metadata": {
        "colab": {
          "base_uri": "https://localhost:8080/"
        },
        "id": "tXmBWxUqySl7",
        "outputId": "dfff7ac9-c85c-4ea2-b0de-d8654da15b68"
      },
      "outputs": [
        {
          "output_type": "stream",
          "name": "stdout",
          "text": [
            "--2022-09-24 17:09:05--  https://raw.githubusercontent.com/alexeygrigorev/datasets/master/housing.csv\n",
            "Resolving raw.githubusercontent.com (raw.githubusercontent.com)... 185.199.108.133, 185.199.109.133, 185.199.110.133, ...\n",
            "Connecting to raw.githubusercontent.com (raw.githubusercontent.com)|185.199.108.133|:443... connected.\n",
            "HTTP request sent, awaiting response... 200 OK\n",
            "Length: 1423529 (1.4M) [text/plain]\n",
            "Saving to: ‘housing.csv.5’\n",
            "\n",
            "housing.csv.5       100%[===================>]   1.36M  --.-KB/s    in 0.07s   \n",
            "\n",
            "2022-09-24 17:09:06 (19.6 MB/s) - ‘housing.csv.5’ saved [1423529/1423529]\n",
            "\n"
          ]
        }
      ],
      "source": [
        "!wget https://raw.githubusercontent.com/alexeygrigorev/datasets/master/housing.csv"
      ]
    },
    {
      "cell_type": "code",
      "source": [
        "import pandas as pd\n",
        "import numpy as np\n",
        "\n",
        "df = pd.read_csv(\"housing.csv\")\n",
        "df.head()\n",
        "df1 = df.copy()"
      ],
      "metadata": {
        "id": "KSJIKElk-8be"
      },
      "execution_count": 81,
      "outputs": []
    },
    {
      "cell_type": "code",
      "source": [
        "df.isnull().sum()\n",
        "\n",
        "df = df.fillna(0)"
      ],
      "metadata": {
        "id": "cXGn_avc_YcJ"
      },
      "execution_count": 82,
      "outputs": []
    },
    {
      "cell_type": "code",
      "source": [
        "df['rooms_per_household']= df.total_rooms/df.households\n",
        "df['bedrooms_per_room']= df.total_bedrooms/df.total_rooms\n",
        "df['population_per_household']= df.population/df.households"
      ],
      "metadata": {
        "id": "TLK5557Z_m--"
      },
      "execution_count": 83,
      "outputs": []
    },
    {
      "cell_type": "markdown",
      "source": [
        "What is the most frequent observation (mode) for the column ocean_proximity?"
      ],
      "metadata": {
        "id": "9GaPbN6NAEE2"
      }
    },
    {
      "cell_type": "code",
      "source": [
        "df.ocean_proximity.mode()"
      ],
      "metadata": {
        "colab": {
          "base_uri": "https://localhost:8080/"
        },
        "id": "vnSMyh6DAGeu",
        "outputId": "92ae32bb-5a8d-45e3-a79d-ca0d4d0bb0ae"
      },
      "execution_count": 84,
      "outputs": [
        {
          "output_type": "execute_result",
          "data": {
            "text/plain": [
              "0    <1H OCEAN\n",
              "dtype: object"
            ]
          },
          "metadata": {},
          "execution_count": 84
        }
      ]
    },
    {
      "cell_type": "markdown",
      "source": [
        "Correlation"
      ],
      "metadata": {
        "id": "jWJN3lyMCP8p"
      }
    },
    {
      "cell_type": "code",
      "source": [
        "X= df.drop(['median_house_value'],axis=1)\n",
        "\n",
        "num_cols= [col for col in X.columns if X[col].dtype in ['int64','float64']]\n",
        "print(num_cols)\n",
        "\n",
        "cat_cols = [col for col in X.columns if X[col].dtype == 'object']\n",
        "print(cat_cols)\n",
        "\n",
        "df[num_cols].corr()"
      ],
      "metadata": {
        "colab": {
          "base_uri": "https://localhost:8080/",
          "height": 495
        },
        "id": "EF8ZVtL8CR3v",
        "outputId": "b83474b9-876a-4cb5-df00-5b2bee203508"
      },
      "execution_count": 85,
      "outputs": [
        {
          "output_type": "stream",
          "name": "stdout",
          "text": [
            "['longitude', 'latitude', 'housing_median_age', 'total_rooms', 'total_bedrooms', 'population', 'households', 'median_income', 'rooms_per_household', 'bedrooms_per_room', 'population_per_household']\n",
            "['ocean_proximity']\n"
          ]
        },
        {
          "output_type": "execute_result",
          "data": {
            "text/plain": [
              "                          longitude  latitude  housing_median_age  \\\n",
              "longitude                  1.000000 -0.924664           -0.108197   \n",
              "latitude                  -0.924664  1.000000            0.011173   \n",
              "housing_median_age        -0.108197  0.011173            1.000000   \n",
              "total_rooms                0.044568 -0.036100           -0.361262   \n",
              "total_bedrooms             0.068082 -0.065318           -0.317063   \n",
              "population                 0.099773 -0.108785           -0.296244   \n",
              "households                 0.055310 -0.071035           -0.302916   \n",
              "median_income             -0.015176 -0.079809           -0.119034   \n",
              "rooms_per_household       -0.027540  0.106389           -0.153277   \n",
              "bedrooms_per_room          0.084836 -0.104112            0.125396   \n",
              "population_per_household   0.002476  0.002366            0.013191   \n",
              "\n",
              "                          total_rooms  total_bedrooms  population  households  \\\n",
              "longitude                    0.044568        0.068082    0.099773    0.055310   \n",
              "latitude                    -0.036100       -0.065318   -0.108785   -0.071035   \n",
              "housing_median_age          -0.361262       -0.317063   -0.296244   -0.302916   \n",
              "total_rooms                  1.000000        0.920196    0.857126    0.918484   \n",
              "total_bedrooms               0.920196        1.000000    0.866266    0.966507   \n",
              "population                   0.857126        0.866266    1.000000    0.907222   \n",
              "households                   0.918484        0.966507    0.907222    1.000000   \n",
              "median_income                0.198050       -0.007295    0.004834    0.013033   \n",
              "rooms_per_household          0.133798        0.002717   -0.072213   -0.080598   \n",
              "bedrooms_per_room           -0.174583        0.122205    0.031397    0.059818   \n",
              "population_per_household    -0.024581       -0.028019    0.069863   -0.027309   \n",
              "\n",
              "                          median_income  rooms_per_household  \\\n",
              "longitude                     -0.015176            -0.027540   \n",
              "latitude                      -0.079809             0.106389   \n",
              "housing_median_age            -0.119034            -0.153277   \n",
              "total_rooms                    0.198050             0.133798   \n",
              "total_bedrooms                -0.007295             0.002717   \n",
              "population                     0.004834            -0.072213   \n",
              "households                     0.013033            -0.080598   \n",
              "median_income                  1.000000             0.326895   \n",
              "rooms_per_household            0.326895             1.000000   \n",
              "bedrooms_per_room             -0.573836            -0.387465   \n",
              "population_per_household       0.018766            -0.004852   \n",
              "\n",
              "                          bedrooms_per_room  population_per_household  \n",
              "longitude                          0.084836                  0.002476  \n",
              "latitude                          -0.104112                  0.002366  \n",
              "housing_median_age                 0.125396                  0.013191  \n",
              "total_rooms                       -0.174583                 -0.024581  \n",
              "total_bedrooms                     0.122205                 -0.028019  \n",
              "population                         0.031397                  0.069863  \n",
              "households                         0.059818                 -0.027309  \n",
              "median_income                     -0.573836                  0.018766  \n",
              "rooms_per_household               -0.387465                 -0.004852  \n",
              "bedrooms_per_room                  1.000000                  0.003047  \n",
              "population_per_household           0.003047                  1.000000  "
            ],
            "text/html": [
              "\n",
              "  <div id=\"df-57c1ff5e-81bf-4b68-a611-c69d94bc20e9\">\n",
              "    <div class=\"colab-df-container\">\n",
              "      <div>\n",
              "<style scoped>\n",
              "    .dataframe tbody tr th:only-of-type {\n",
              "        vertical-align: middle;\n",
              "    }\n",
              "\n",
              "    .dataframe tbody tr th {\n",
              "        vertical-align: top;\n",
              "    }\n",
              "\n",
              "    .dataframe thead th {\n",
              "        text-align: right;\n",
              "    }\n",
              "</style>\n",
              "<table border=\"1\" class=\"dataframe\">\n",
              "  <thead>\n",
              "    <tr style=\"text-align: right;\">\n",
              "      <th></th>\n",
              "      <th>longitude</th>\n",
              "      <th>latitude</th>\n",
              "      <th>housing_median_age</th>\n",
              "      <th>total_rooms</th>\n",
              "      <th>total_bedrooms</th>\n",
              "      <th>population</th>\n",
              "      <th>households</th>\n",
              "      <th>median_income</th>\n",
              "      <th>rooms_per_household</th>\n",
              "      <th>bedrooms_per_room</th>\n",
              "      <th>population_per_household</th>\n",
              "    </tr>\n",
              "  </thead>\n",
              "  <tbody>\n",
              "    <tr>\n",
              "      <th>longitude</th>\n",
              "      <td>1.000000</td>\n",
              "      <td>-0.924664</td>\n",
              "      <td>-0.108197</td>\n",
              "      <td>0.044568</td>\n",
              "      <td>0.068082</td>\n",
              "      <td>0.099773</td>\n",
              "      <td>0.055310</td>\n",
              "      <td>-0.015176</td>\n",
              "      <td>-0.027540</td>\n",
              "      <td>0.084836</td>\n",
              "      <td>0.002476</td>\n",
              "    </tr>\n",
              "    <tr>\n",
              "      <th>latitude</th>\n",
              "      <td>-0.924664</td>\n",
              "      <td>1.000000</td>\n",
              "      <td>0.011173</td>\n",
              "      <td>-0.036100</td>\n",
              "      <td>-0.065318</td>\n",
              "      <td>-0.108785</td>\n",
              "      <td>-0.071035</td>\n",
              "      <td>-0.079809</td>\n",
              "      <td>0.106389</td>\n",
              "      <td>-0.104112</td>\n",
              "      <td>0.002366</td>\n",
              "    </tr>\n",
              "    <tr>\n",
              "      <th>housing_median_age</th>\n",
              "      <td>-0.108197</td>\n",
              "      <td>0.011173</td>\n",
              "      <td>1.000000</td>\n",
              "      <td>-0.361262</td>\n",
              "      <td>-0.317063</td>\n",
              "      <td>-0.296244</td>\n",
              "      <td>-0.302916</td>\n",
              "      <td>-0.119034</td>\n",
              "      <td>-0.153277</td>\n",
              "      <td>0.125396</td>\n",
              "      <td>0.013191</td>\n",
              "    </tr>\n",
              "    <tr>\n",
              "      <th>total_rooms</th>\n",
              "      <td>0.044568</td>\n",
              "      <td>-0.036100</td>\n",
              "      <td>-0.361262</td>\n",
              "      <td>1.000000</td>\n",
              "      <td>0.920196</td>\n",
              "      <td>0.857126</td>\n",
              "      <td>0.918484</td>\n",
              "      <td>0.198050</td>\n",
              "      <td>0.133798</td>\n",
              "      <td>-0.174583</td>\n",
              "      <td>-0.024581</td>\n",
              "    </tr>\n",
              "    <tr>\n",
              "      <th>total_bedrooms</th>\n",
              "      <td>0.068082</td>\n",
              "      <td>-0.065318</td>\n",
              "      <td>-0.317063</td>\n",
              "      <td>0.920196</td>\n",
              "      <td>1.000000</td>\n",
              "      <td>0.866266</td>\n",
              "      <td>0.966507</td>\n",
              "      <td>-0.007295</td>\n",
              "      <td>0.002717</td>\n",
              "      <td>0.122205</td>\n",
              "      <td>-0.028019</td>\n",
              "    </tr>\n",
              "    <tr>\n",
              "      <th>population</th>\n",
              "      <td>0.099773</td>\n",
              "      <td>-0.108785</td>\n",
              "      <td>-0.296244</td>\n",
              "      <td>0.857126</td>\n",
              "      <td>0.866266</td>\n",
              "      <td>1.000000</td>\n",
              "      <td>0.907222</td>\n",
              "      <td>0.004834</td>\n",
              "      <td>-0.072213</td>\n",
              "      <td>0.031397</td>\n",
              "      <td>0.069863</td>\n",
              "    </tr>\n",
              "    <tr>\n",
              "      <th>households</th>\n",
              "      <td>0.055310</td>\n",
              "      <td>-0.071035</td>\n",
              "      <td>-0.302916</td>\n",
              "      <td>0.918484</td>\n",
              "      <td>0.966507</td>\n",
              "      <td>0.907222</td>\n",
              "      <td>1.000000</td>\n",
              "      <td>0.013033</td>\n",
              "      <td>-0.080598</td>\n",
              "      <td>0.059818</td>\n",
              "      <td>-0.027309</td>\n",
              "    </tr>\n",
              "    <tr>\n",
              "      <th>median_income</th>\n",
              "      <td>-0.015176</td>\n",
              "      <td>-0.079809</td>\n",
              "      <td>-0.119034</td>\n",
              "      <td>0.198050</td>\n",
              "      <td>-0.007295</td>\n",
              "      <td>0.004834</td>\n",
              "      <td>0.013033</td>\n",
              "      <td>1.000000</td>\n",
              "      <td>0.326895</td>\n",
              "      <td>-0.573836</td>\n",
              "      <td>0.018766</td>\n",
              "    </tr>\n",
              "    <tr>\n",
              "      <th>rooms_per_household</th>\n",
              "      <td>-0.027540</td>\n",
              "      <td>0.106389</td>\n",
              "      <td>-0.153277</td>\n",
              "      <td>0.133798</td>\n",
              "      <td>0.002717</td>\n",
              "      <td>-0.072213</td>\n",
              "      <td>-0.080598</td>\n",
              "      <td>0.326895</td>\n",
              "      <td>1.000000</td>\n",
              "      <td>-0.387465</td>\n",
              "      <td>-0.004852</td>\n",
              "    </tr>\n",
              "    <tr>\n",
              "      <th>bedrooms_per_room</th>\n",
              "      <td>0.084836</td>\n",
              "      <td>-0.104112</td>\n",
              "      <td>0.125396</td>\n",
              "      <td>-0.174583</td>\n",
              "      <td>0.122205</td>\n",
              "      <td>0.031397</td>\n",
              "      <td>0.059818</td>\n",
              "      <td>-0.573836</td>\n",
              "      <td>-0.387465</td>\n",
              "      <td>1.000000</td>\n",
              "      <td>0.003047</td>\n",
              "    </tr>\n",
              "    <tr>\n",
              "      <th>population_per_household</th>\n",
              "      <td>0.002476</td>\n",
              "      <td>0.002366</td>\n",
              "      <td>0.013191</td>\n",
              "      <td>-0.024581</td>\n",
              "      <td>-0.028019</td>\n",
              "      <td>0.069863</td>\n",
              "      <td>-0.027309</td>\n",
              "      <td>0.018766</td>\n",
              "      <td>-0.004852</td>\n",
              "      <td>0.003047</td>\n",
              "      <td>1.000000</td>\n",
              "    </tr>\n",
              "  </tbody>\n",
              "</table>\n",
              "</div>\n",
              "      <button class=\"colab-df-convert\" onclick=\"convertToInteractive('df-57c1ff5e-81bf-4b68-a611-c69d94bc20e9')\"\n",
              "              title=\"Convert this dataframe to an interactive table.\"\n",
              "              style=\"display:none;\">\n",
              "        \n",
              "  <svg xmlns=\"http://www.w3.org/2000/svg\" height=\"24px\"viewBox=\"0 0 24 24\"\n",
              "       width=\"24px\">\n",
              "    <path d=\"M0 0h24v24H0V0z\" fill=\"none\"/>\n",
              "    <path d=\"M18.56 5.44l.94 2.06.94-2.06 2.06-.94-2.06-.94-.94-2.06-.94 2.06-2.06.94zm-11 1L8.5 8.5l.94-2.06 2.06-.94-2.06-.94L8.5 2.5l-.94 2.06-2.06.94zm10 10l.94 2.06.94-2.06 2.06-.94-2.06-.94-.94-2.06-.94 2.06-2.06.94z\"/><path d=\"M17.41 7.96l-1.37-1.37c-.4-.4-.92-.59-1.43-.59-.52 0-1.04.2-1.43.59L10.3 9.45l-7.72 7.72c-.78.78-.78 2.05 0 2.83L4 21.41c.39.39.9.59 1.41.59.51 0 1.02-.2 1.41-.59l7.78-7.78 2.81-2.81c.8-.78.8-2.07 0-2.86zM5.41 20L4 18.59l7.72-7.72 1.47 1.35L5.41 20z\"/>\n",
              "  </svg>\n",
              "      </button>\n",
              "      \n",
              "  <style>\n",
              "    .colab-df-container {\n",
              "      display:flex;\n",
              "      flex-wrap:wrap;\n",
              "      gap: 12px;\n",
              "    }\n",
              "\n",
              "    .colab-df-convert {\n",
              "      background-color: #E8F0FE;\n",
              "      border: none;\n",
              "      border-radius: 50%;\n",
              "      cursor: pointer;\n",
              "      display: none;\n",
              "      fill: #1967D2;\n",
              "      height: 32px;\n",
              "      padding: 0 0 0 0;\n",
              "      width: 32px;\n",
              "    }\n",
              "\n",
              "    .colab-df-convert:hover {\n",
              "      background-color: #E2EBFA;\n",
              "      box-shadow: 0px 1px 2px rgba(60, 64, 67, 0.3), 0px 1px 3px 1px rgba(60, 64, 67, 0.15);\n",
              "      fill: #174EA6;\n",
              "    }\n",
              "\n",
              "    [theme=dark] .colab-df-convert {\n",
              "      background-color: #3B4455;\n",
              "      fill: #D2E3FC;\n",
              "    }\n",
              "\n",
              "    [theme=dark] .colab-df-convert:hover {\n",
              "      background-color: #434B5C;\n",
              "      box-shadow: 0px 1px 3px 1px rgba(0, 0, 0, 0.15);\n",
              "      filter: drop-shadow(0px 1px 2px rgba(0, 0, 0, 0.3));\n",
              "      fill: #FFFFFF;\n",
              "    }\n",
              "  </style>\n",
              "\n",
              "      <script>\n",
              "        const buttonEl =\n",
              "          document.querySelector('#df-57c1ff5e-81bf-4b68-a611-c69d94bc20e9 button.colab-df-convert');\n",
              "        buttonEl.style.display =\n",
              "          google.colab.kernel.accessAllowed ? 'block' : 'none';\n",
              "\n",
              "        async function convertToInteractive(key) {\n",
              "          const element = document.querySelector('#df-57c1ff5e-81bf-4b68-a611-c69d94bc20e9');\n",
              "          const dataTable =\n",
              "            await google.colab.kernel.invokeFunction('convertToInteractive',\n",
              "                                                     [key], {});\n",
              "          if (!dataTable) return;\n",
              "\n",
              "          const docLinkHtml = 'Like what you see? Visit the ' +\n",
              "            '<a target=\"_blank\" href=https://colab.research.google.com/notebooks/data_table.ipynb>data table notebook</a>'\n",
              "            + ' to learn more about interactive tables.';\n",
              "          element.innerHTML = '';\n",
              "          dataTable['output_type'] = 'display_data';\n",
              "          await google.colab.output.renderOutput(dataTable, element);\n",
              "          const docLink = document.createElement('div');\n",
              "          docLink.innerHTML = docLinkHtml;\n",
              "          element.appendChild(docLink);\n",
              "        }\n",
              "      </script>\n",
              "    </div>\n",
              "  </div>\n",
              "  "
            ]
          },
          "metadata": {},
          "execution_count": 85
        }
      ]
    },
    {
      "cell_type": "markdown",
      "source": [
        "\n",
        "0.966507 ---> total_bedrooms with households"
      ],
      "metadata": {
        "id": "_E3w2HGHDzJE"
      }
    },
    {
      "cell_type": "markdown",
      "source": [
        "creating above avg variable"
      ],
      "metadata": {
        "id": "UhiWBZ41D7RM"
      }
    },
    {
      "cell_type": "code",
      "source": [
        "avg = df.median_house_value.mean()\n",
        "avg"
      ],
      "metadata": {
        "colab": {
          "base_uri": "https://localhost:8080/"
        },
        "id": "y1ipQInPFpoV",
        "outputId": "4d330d75-ae70-4c40-aae5-f014d220cd7a"
      },
      "execution_count": 86,
      "outputs": [
        {
          "output_type": "execute_result",
          "data": {
            "text/plain": [
              "206855.81690891474"
            ]
          },
          "metadata": {},
          "execution_count": 86
        }
      ]
    },
    {
      "cell_type": "code",
      "source": [
        "df['median_house_value'] = (df.median_house_value > avg).astype('int')\n",
        "#df.median_house_value = df['above_average'].copy()\n",
        "#df.drop(['above_average'],axis=1)\n",
        "\n",
        "df.head()\n",
        "df.tail()"
      ],
      "metadata": {
        "colab": {
          "base_uri": "https://localhost:8080/",
          "height": 270
        },
        "id": "n2FPKkHJEUD8",
        "outputId": "f5667bf0-3ba0-4eca-fc9e-971272b50318"
      },
      "execution_count": 87,
      "outputs": [
        {
          "output_type": "execute_result",
          "data": {
            "text/plain": [
              "       longitude  latitude  housing_median_age  total_rooms  total_bedrooms  \\\n",
              "20635    -121.09     39.48                25.0       1665.0           374.0   \n",
              "20636    -121.21     39.49                18.0        697.0           150.0   \n",
              "20637    -121.22     39.43                17.0       2254.0           485.0   \n",
              "20638    -121.32     39.43                18.0       1860.0           409.0   \n",
              "20639    -121.24     39.37                16.0       2785.0           616.0   \n",
              "\n",
              "       population  households  median_income  median_house_value  \\\n",
              "20635       845.0       330.0         1.5603                   0   \n",
              "20636       356.0       114.0         2.5568                   0   \n",
              "20637      1007.0       433.0         1.7000                   0   \n",
              "20638       741.0       349.0         1.8672                   0   \n",
              "20639      1387.0       530.0         2.3886                   0   \n",
              "\n",
              "      ocean_proximity  rooms_per_household  bedrooms_per_room  \\\n",
              "20635          INLAND             5.045455           0.224625   \n",
              "20636          INLAND             6.114035           0.215208   \n",
              "20637          INLAND             5.205543           0.215173   \n",
              "20638          INLAND             5.329513           0.219892   \n",
              "20639          INLAND             5.254717           0.221185   \n",
              "\n",
              "       population_per_household  \n",
              "20635                  2.560606  \n",
              "20636                  3.122807  \n",
              "20637                  2.325635  \n",
              "20638                  2.123209  \n",
              "20639                  2.616981  "
            ],
            "text/html": [
              "\n",
              "  <div id=\"df-7d957111-a1b5-45b8-8ca9-eb0bfe7e2c15\">\n",
              "    <div class=\"colab-df-container\">\n",
              "      <div>\n",
              "<style scoped>\n",
              "    .dataframe tbody tr th:only-of-type {\n",
              "        vertical-align: middle;\n",
              "    }\n",
              "\n",
              "    .dataframe tbody tr th {\n",
              "        vertical-align: top;\n",
              "    }\n",
              "\n",
              "    .dataframe thead th {\n",
              "        text-align: right;\n",
              "    }\n",
              "</style>\n",
              "<table border=\"1\" class=\"dataframe\">\n",
              "  <thead>\n",
              "    <tr style=\"text-align: right;\">\n",
              "      <th></th>\n",
              "      <th>longitude</th>\n",
              "      <th>latitude</th>\n",
              "      <th>housing_median_age</th>\n",
              "      <th>total_rooms</th>\n",
              "      <th>total_bedrooms</th>\n",
              "      <th>population</th>\n",
              "      <th>households</th>\n",
              "      <th>median_income</th>\n",
              "      <th>median_house_value</th>\n",
              "      <th>ocean_proximity</th>\n",
              "      <th>rooms_per_household</th>\n",
              "      <th>bedrooms_per_room</th>\n",
              "      <th>population_per_household</th>\n",
              "    </tr>\n",
              "  </thead>\n",
              "  <tbody>\n",
              "    <tr>\n",
              "      <th>20635</th>\n",
              "      <td>-121.09</td>\n",
              "      <td>39.48</td>\n",
              "      <td>25.0</td>\n",
              "      <td>1665.0</td>\n",
              "      <td>374.0</td>\n",
              "      <td>845.0</td>\n",
              "      <td>330.0</td>\n",
              "      <td>1.5603</td>\n",
              "      <td>0</td>\n",
              "      <td>INLAND</td>\n",
              "      <td>5.045455</td>\n",
              "      <td>0.224625</td>\n",
              "      <td>2.560606</td>\n",
              "    </tr>\n",
              "    <tr>\n",
              "      <th>20636</th>\n",
              "      <td>-121.21</td>\n",
              "      <td>39.49</td>\n",
              "      <td>18.0</td>\n",
              "      <td>697.0</td>\n",
              "      <td>150.0</td>\n",
              "      <td>356.0</td>\n",
              "      <td>114.0</td>\n",
              "      <td>2.5568</td>\n",
              "      <td>0</td>\n",
              "      <td>INLAND</td>\n",
              "      <td>6.114035</td>\n",
              "      <td>0.215208</td>\n",
              "      <td>3.122807</td>\n",
              "    </tr>\n",
              "    <tr>\n",
              "      <th>20637</th>\n",
              "      <td>-121.22</td>\n",
              "      <td>39.43</td>\n",
              "      <td>17.0</td>\n",
              "      <td>2254.0</td>\n",
              "      <td>485.0</td>\n",
              "      <td>1007.0</td>\n",
              "      <td>433.0</td>\n",
              "      <td>1.7000</td>\n",
              "      <td>0</td>\n",
              "      <td>INLAND</td>\n",
              "      <td>5.205543</td>\n",
              "      <td>0.215173</td>\n",
              "      <td>2.325635</td>\n",
              "    </tr>\n",
              "    <tr>\n",
              "      <th>20638</th>\n",
              "      <td>-121.32</td>\n",
              "      <td>39.43</td>\n",
              "      <td>18.0</td>\n",
              "      <td>1860.0</td>\n",
              "      <td>409.0</td>\n",
              "      <td>741.0</td>\n",
              "      <td>349.0</td>\n",
              "      <td>1.8672</td>\n",
              "      <td>0</td>\n",
              "      <td>INLAND</td>\n",
              "      <td>5.329513</td>\n",
              "      <td>0.219892</td>\n",
              "      <td>2.123209</td>\n",
              "    </tr>\n",
              "    <tr>\n",
              "      <th>20639</th>\n",
              "      <td>-121.24</td>\n",
              "      <td>39.37</td>\n",
              "      <td>16.0</td>\n",
              "      <td>2785.0</td>\n",
              "      <td>616.0</td>\n",
              "      <td>1387.0</td>\n",
              "      <td>530.0</td>\n",
              "      <td>2.3886</td>\n",
              "      <td>0</td>\n",
              "      <td>INLAND</td>\n",
              "      <td>5.254717</td>\n",
              "      <td>0.221185</td>\n",
              "      <td>2.616981</td>\n",
              "    </tr>\n",
              "  </tbody>\n",
              "</table>\n",
              "</div>\n",
              "      <button class=\"colab-df-convert\" onclick=\"convertToInteractive('df-7d957111-a1b5-45b8-8ca9-eb0bfe7e2c15')\"\n",
              "              title=\"Convert this dataframe to an interactive table.\"\n",
              "              style=\"display:none;\">\n",
              "        \n",
              "  <svg xmlns=\"http://www.w3.org/2000/svg\" height=\"24px\"viewBox=\"0 0 24 24\"\n",
              "       width=\"24px\">\n",
              "    <path d=\"M0 0h24v24H0V0z\" fill=\"none\"/>\n",
              "    <path d=\"M18.56 5.44l.94 2.06.94-2.06 2.06-.94-2.06-.94-.94-2.06-.94 2.06-2.06.94zm-11 1L8.5 8.5l.94-2.06 2.06-.94-2.06-.94L8.5 2.5l-.94 2.06-2.06.94zm10 10l.94 2.06.94-2.06 2.06-.94-2.06-.94-.94-2.06-.94 2.06-2.06.94z\"/><path d=\"M17.41 7.96l-1.37-1.37c-.4-.4-.92-.59-1.43-.59-.52 0-1.04.2-1.43.59L10.3 9.45l-7.72 7.72c-.78.78-.78 2.05 0 2.83L4 21.41c.39.39.9.59 1.41.59.51 0 1.02-.2 1.41-.59l7.78-7.78 2.81-2.81c.8-.78.8-2.07 0-2.86zM5.41 20L4 18.59l7.72-7.72 1.47 1.35L5.41 20z\"/>\n",
              "  </svg>\n",
              "      </button>\n",
              "      \n",
              "  <style>\n",
              "    .colab-df-container {\n",
              "      display:flex;\n",
              "      flex-wrap:wrap;\n",
              "      gap: 12px;\n",
              "    }\n",
              "\n",
              "    .colab-df-convert {\n",
              "      background-color: #E8F0FE;\n",
              "      border: none;\n",
              "      border-radius: 50%;\n",
              "      cursor: pointer;\n",
              "      display: none;\n",
              "      fill: #1967D2;\n",
              "      height: 32px;\n",
              "      padding: 0 0 0 0;\n",
              "      width: 32px;\n",
              "    }\n",
              "\n",
              "    .colab-df-convert:hover {\n",
              "      background-color: #E2EBFA;\n",
              "      box-shadow: 0px 1px 2px rgba(60, 64, 67, 0.3), 0px 1px 3px 1px rgba(60, 64, 67, 0.15);\n",
              "      fill: #174EA6;\n",
              "    }\n",
              "\n",
              "    [theme=dark] .colab-df-convert {\n",
              "      background-color: #3B4455;\n",
              "      fill: #D2E3FC;\n",
              "    }\n",
              "\n",
              "    [theme=dark] .colab-df-convert:hover {\n",
              "      background-color: #434B5C;\n",
              "      box-shadow: 0px 1px 3px 1px rgba(0, 0, 0, 0.15);\n",
              "      filter: drop-shadow(0px 1px 2px rgba(0, 0, 0, 0.3));\n",
              "      fill: #FFFFFF;\n",
              "    }\n",
              "  </style>\n",
              "\n",
              "      <script>\n",
              "        const buttonEl =\n",
              "          document.querySelector('#df-7d957111-a1b5-45b8-8ca9-eb0bfe7e2c15 button.colab-df-convert');\n",
              "        buttonEl.style.display =\n",
              "          google.colab.kernel.accessAllowed ? 'block' : 'none';\n",
              "\n",
              "        async function convertToInteractive(key) {\n",
              "          const element = document.querySelector('#df-7d957111-a1b5-45b8-8ca9-eb0bfe7e2c15');\n",
              "          const dataTable =\n",
              "            await google.colab.kernel.invokeFunction('convertToInteractive',\n",
              "                                                     [key], {});\n",
              "          if (!dataTable) return;\n",
              "\n",
              "          const docLinkHtml = 'Like what you see? Visit the ' +\n",
              "            '<a target=\"_blank\" href=https://colab.research.google.com/notebooks/data_table.ipynb>data table notebook</a>'\n",
              "            + ' to learn more about interactive tables.';\n",
              "          element.innerHTML = '';\n",
              "          dataTable['output_type'] = 'display_data';\n",
              "          await google.colab.output.renderOutput(dataTable, element);\n",
              "          const docLink = document.createElement('div');\n",
              "          docLink.innerHTML = docLinkHtml;\n",
              "          element.appendChild(docLink);\n",
              "        }\n",
              "      </script>\n",
              "    </div>\n",
              "  </div>\n",
              "  "
            ]
          },
          "metadata": {},
          "execution_count": 87
        }
      ]
    },
    {
      "cell_type": "markdown",
      "source": [
        "Splitting data"
      ],
      "metadata": {
        "id": "9Hum_BQBAjEN"
      }
    },
    {
      "cell_type": "code",
      "source": [
        "from sklearn.model_selection import train_test_split\n",
        "\n",
        "X= df.drop(['median_house_value'],axis=1)\n",
        "y= df.median_house_value\n",
        "\n",
        "fulltrain_X, val_X, fulltrain_y, val_y =  train_test_split(X,y,random_state=42,test_size=0.20)\n",
        "train_X, test_X, train_y, test_y =  train_test_split(fulltrain_X,fulltrain_y,random_state=42,test_size=0.25)\n",
        "\n",
        "\n",
        "#spliting numerical and categorical features\n",
        "\n",
        "num_cols= [col for col in X.columns if X[col].dtype in ['int64','float64']]\n",
        "print(num_cols)\n",
        "\n",
        "cat_cols = [col for col in X.columns if X[col].dtype == 'object']\n",
        "print(cat_cols)"
      ],
      "metadata": {
        "colab": {
          "base_uri": "https://localhost:8080/"
        },
        "id": "fMFQrquWAlk9",
        "outputId": "bfcb15a3-f241-450b-9983-82aa7ef86d99"
      },
      "execution_count": 88,
      "outputs": [
        {
          "output_type": "stream",
          "name": "stdout",
          "text": [
            "['longitude', 'latitude', 'housing_median_age', 'total_rooms', 'total_bedrooms', 'population', 'households', 'median_income', 'rooms_per_household', 'bedrooms_per_room', 'population_per_household']\n",
            "['ocean_proximity']\n"
          ]
        }
      ]
    },
    {
      "cell_type": "code",
      "source": [
        "df.dtypes"
      ],
      "metadata": {
        "colab": {
          "base_uri": "https://localhost:8080/"
        },
        "id": "hMKrliRbLp-m",
        "outputId": "fad40af4-b8f9-4330-9b6a-c3fd85bf4083"
      },
      "execution_count": 89,
      "outputs": [
        {
          "output_type": "execute_result",
          "data": {
            "text/plain": [
              "longitude                   float64\n",
              "latitude                    float64\n",
              "housing_median_age          float64\n",
              "total_rooms                 float64\n",
              "total_bedrooms              float64\n",
              "population                  float64\n",
              "households                  float64\n",
              "median_income               float64\n",
              "median_house_value            int64\n",
              "ocean_proximity              object\n",
              "rooms_per_household         float64\n",
              "bedrooms_per_room           float64\n",
              "population_per_household    float64\n",
              "dtype: object"
            ]
          },
          "metadata": {},
          "execution_count": 89
        }
      ]
    },
    {
      "cell_type": "code",
      "source": [
        "# MI score for categorical feature\n",
        "mi= train_X\n",
        "for col in mi.select_dtypes('object'):\n",
        "  mi[col],_ = mi[col].factorize()\n",
        "\n",
        "discrete_feature= mi.dtypes == int\n",
        "\n",
        "from sklearn.feature_selection import mutual_info_classif\n",
        "\n",
        "\n",
        "mi_scores = mutual_info_classif(mi,train_y,discrete_features=discrete_feature)\n",
        "mi_scores= pd.Series(mi_scores, name='mi_scores',index=mi.columns)\n",
        "mi_scores= mi_scores.sort_values(ascending=False)\n",
        "print(round(mi_scores,2))"
      ],
      "metadata": {
        "colab": {
          "base_uri": "https://localhost:8080/"
        },
        "id": "R6o4s0T6HJys",
        "outputId": "62bf75e8-8623-4014-c5f9-ebf6f9310e8a"
      },
      "execution_count": 90,
      "outputs": [
        {
          "output_type": "stream",
          "name": "stdout",
          "text": [
            "median_income               0.19\n",
            "longitude                   0.15\n",
            "latitude                    0.14\n",
            "ocean_proximity             0.10\n",
            "bedrooms_per_room           0.08\n",
            "rooms_per_household         0.05\n",
            "population_per_household    0.04\n",
            "total_rooms                 0.02\n",
            "housing_median_age          0.01\n",
            "households                  0.01\n",
            "population                  0.00\n",
            "total_bedrooms              0.00\n",
            "Name: mi_scores, dtype: float64\n"
          ]
        }
      ]
    },
    {
      "cell_type": "markdown",
      "source": [
        "ocean_proximity    --->          0.10"
      ],
      "metadata": {
        "id": "yIL4CczMP8Zq"
      }
    },
    {
      "cell_type": "markdown",
      "source": [
        "Creating logistic regression model"
      ],
      "metadata": {
        "id": "GGhyv0v8QZCB"
      }
    },
    {
      "cell_type": "code",
      "source": [
        "from sklearn.linear_model import LogisticRegression\n",
        "from sklearn.metrics import accuracy_score\n",
        "\n",
        "X= df.drop(['median_house_value'],axis=1)\n",
        "y= df.median_house_value\n",
        "\n",
        "\n",
        "X= pd.get_dummies(X)\n",
        "\n",
        "fulltrain_X, val_X, fulltrain_y, val_y =  train_test_split(X,y,random_state=42,test_size=0.20)\n",
        "train_X, test_X, train_y, test_y =  train_test_split(fulltrain_X,fulltrain_y,random_state=42,test_size=0.25)\n",
        "\n",
        "model = LogisticRegression(solver=\"liblinear\", C=1.0, max_iter=1000, random_state=42)\n",
        "model.fit(train_X, train_y)\n",
        "\n",
        "pred = model.predict(val_X)\n",
        "print('ACCURACY: ',accuracy_score(val_y,pred))\n",
        "print('ACCURACY: ',round(accuracy_score(val_y,pred),2))\n",
        "\n",
        "a=0.8335755813953488"
      ],
      "metadata": {
        "colab": {
          "base_uri": "https://localhost:8080/"
        },
        "id": "Y14ucWfnQcLg",
        "outputId": "e3db7cc4-4767-46d1-f6ac-5bc97823c90c"
      },
      "execution_count": 91,
      "outputs": [
        {
          "output_type": "stream",
          "name": "stdout",
          "text": [
            "ACCURACY:  0.8335755813953488\n",
            "ACCURACY:  0.83\n"
          ]
        }
      ]
    },
    {
      "cell_type": "markdown",
      "source": [
        "Finding the least useful feature using the feature elimination technique."
      ],
      "metadata": {
        "id": "UeopUHybS6Yy"
      }
    },
    {
      "cell_type": "code",
      "source": [
        "#drop total_rooms\n",
        "\n",
        "X= df.drop(['median_house_value','total_rooms'],axis=1)\n",
        "y= df.median_house_value\n",
        "\n",
        "\n",
        "X= pd.get_dummies(X)\n",
        "\n",
        "fulltrain_X, val_X, fulltrain_y, val_y =  train_test_split(X,y,random_state=42,test_size=0.20)\n",
        "train_X, test_X, train_y, test_y =  train_test_split(fulltrain_X,fulltrain_y,random_state=42,test_size=0.25)\n",
        "\n",
        "model = LogisticRegression(solver=\"liblinear\", C=1.0, max_iter=1000, random_state=42)\n",
        "model.fit(train_X, train_y)\n",
        "\n",
        "pred = model.predict(val_X)\n",
        "print('ACCURACY: ',accuracy_score(val_y,pred))\n",
        "\n",
        "print(\"Difference: \",a-accuracy_score(val_y,pred))"
      ],
      "metadata": {
        "colab": {
          "base_uri": "https://localhost:8080/"
        },
        "id": "KRSUCn03WMVc",
        "outputId": "196e26af-5283-4807-f938-923bc4ec137e"
      },
      "execution_count": 92,
      "outputs": [
        {
          "output_type": "stream",
          "name": "stdout",
          "text": [
            "ACCURACY:  0.8345445736434108\n",
            "Difference:  -0.0009689922480620172\n"
          ]
        }
      ]
    },
    {
      "cell_type": "code",
      "source": [
        "#drop total_bedrooms\n",
        "\n",
        "X= df.drop(['median_house_value','total_bedrooms'],axis=1)\n",
        "y= df.median_house_value\n",
        "\n",
        "\n",
        "X= pd.get_dummies(X)\n",
        "\n",
        "fulltrain_X, val_X, fulltrain_y, val_y =  train_test_split(X,y,random_state=42,test_size=0.20)\n",
        "train_X, test_X, train_y, test_y =  train_test_split(fulltrain_X,fulltrain_y,random_state=42,test_size=0.25)\n",
        "\n",
        "model = LogisticRegression(solver=\"liblinear\", C=1.0, max_iter=1000, random_state=42)\n",
        "model.fit(train_X, train_y)\n",
        "\n",
        "pred = model.predict(val_X)\n",
        "print('ACCURACY: ',accuracy_score(val_y,pred))\n",
        "print(\"Difference: \",a-accuracy_score(val_y,pred))"
      ],
      "metadata": {
        "colab": {
          "base_uri": "https://localhost:8080/"
        },
        "id": "MNDfgREVWZnD",
        "outputId": "2c509bae-67fd-4ec1-dac0-249e1d9a4e19"
      },
      "execution_count": 93,
      "outputs": [
        {
          "output_type": "stream",
          "name": "stdout",
          "text": [
            "ACCURACY:  0.8335755813953488\n",
            "Difference:  0.0\n"
          ]
        }
      ]
    },
    {
      "cell_type": "code",
      "source": [
        "#drop population\n",
        "\n",
        "X= df.drop(['median_house_value','population'],axis=1)\n",
        "y= df.median_house_value\n",
        "\n",
        "\n",
        "X= pd.get_dummies(X)\n",
        "\n",
        "fulltrain_X, val_X, fulltrain_y, val_y =  train_test_split(X,y,random_state=42,test_size=0.20)\n",
        "train_X, test_X, train_y, test_y =  train_test_split(fulltrain_X,fulltrain_y,random_state=42,test_size=0.25)\n",
        "\n",
        "model = LogisticRegression(solver=\"liblinear\", C=1.0, max_iter=1000, random_state=42)\n",
        "model.fit(train_X, train_y)\n",
        "\n",
        "pred = model.predict(val_X)\n",
        "print('ACCURACY: ',accuracy_score(val_y,pred))\n",
        "print(\"Difference: \",a-accuracy_score(val_y,pred))"
      ],
      "metadata": {
        "colab": {
          "base_uri": "https://localhost:8080/"
        },
        "id": "BssTp9quWv2U",
        "outputId": "9af5bb5e-1f9f-46e3-af17-3441ede00c8a"
      },
      "execution_count": 94,
      "outputs": [
        {
          "output_type": "stream",
          "name": "stdout",
          "text": [
            "ACCURACY:  0.8204941860465116\n",
            "Difference:  0.013081395348837233\n"
          ]
        }
      ]
    },
    {
      "cell_type": "code",
      "source": [
        "#drop households\n",
        "\n",
        "X= df.drop(['median_house_value','households'],axis=1)\n",
        "y= df.median_house_value\n",
        "\n",
        "\n",
        "X= pd.get_dummies(X)\n",
        "\n",
        "fulltrain_X, val_X, fulltrain_y, val_y =  train_test_split(X,y,random_state=42,test_size=0.20)\n",
        "train_X, test_X, train_y, test_y =  train_test_split(fulltrain_X,fulltrain_y,random_state=42,test_size=0.25)\n",
        "\n",
        "model = LogisticRegression(solver=\"liblinear\", C=1.0, max_iter=1000, random_state=42)\n",
        "model.fit(train_X, train_y)\n",
        "\n",
        "pred = model.predict(val_X)\n",
        "print('ACCURACY: ',accuracy_score(val_y,pred))\n",
        "print(\"Difference: \",a-accuracy_score(val_y,pred))"
      ],
      "metadata": {
        "colab": {
          "base_uri": "https://localhost:8080/"
        },
        "id": "CN6R_0kwW0ps",
        "outputId": "d05982cb-eda8-44e8-abe3-f5c365bd896f"
      },
      "execution_count": 95,
      "outputs": [
        {
          "output_type": "stream",
          "name": "stdout",
          "text": [
            "ACCURACY:  0.8301841085271318\n",
            "Difference:  0.0033914728682170603\n"
          ]
        }
      ]
    },
    {
      "cell_type": "markdown",
      "source": [
        "Total bedrooms is the least useful feature"
      ],
      "metadata": {
        "id": "YMPVwg_dXv4e"
      }
    },
    {
      "cell_type": "markdown",
      "source": [
        "Ridge regression model"
      ],
      "metadata": {
        "id": "yKWfcIayYPtr"
      }
    },
    {
      "cell_type": "code",
      "source": [
        "from sklearn.linear_model import Ridge\n",
        "from sklearn.metrics import mean_squared_error\n",
        "from math import sqrt\n",
        "\n",
        "#df1 is the copy of df\n",
        "df1 = df1.fillna(0)\n",
        "X= df1.drop(['median_house_value','households'],axis=1)\n",
        "y= df1.median_house_value\n",
        "\n",
        "\n",
        "a= [0, 0.01, 0.1, 1, 10]\n",
        "X= pd.get_dummies(X)\n",
        "\n",
        "fulltrain_X, val_X, fulltrain_y, val_y =  train_test_split(X,y,random_state=42,test_size=0.20)\n",
        "train_X, test_X, train_y, test_y =  train_test_split(fulltrain_X,fulltrain_y,random_state=42,test_size=0.25)\n",
        "\n",
        "for i in a:\n",
        "  model = Ridge(alpha=i, solver=\"sag\", random_state=42)\n",
        "  model.fit(train_X, train_y)\n",
        "\n",
        "  pred = model.predict(val_X)\n",
        "\n",
        "  print(\"MSE for \",i,\" :\",round(sqrt(mean_squared_error(pred,val_y,squared=False)),3))"
      ],
      "metadata": {
        "colab": {
          "base_uri": "https://localhost:8080/"
        },
        "id": "J-2VrOgvX2G3",
        "outputId": "929e671e-9f0a-40ef-b496-651dc467055b"
      },
      "execution_count": 96,
      "outputs": [
        {
          "output_type": "stream",
          "name": "stdout",
          "text": [
            "MSE for  0  : 327.893\n",
            "MSE for  0.01  : 327.893\n",
            "MSE for  0.1  : 327.893\n",
            "MSE for  1  : 327.893\n",
            "MSE for  10  : 327.893\n"
          ]
        }
      ]
    },
    {
      "cell_type": "markdown",
      "source": [
        "Selecting smallest alpha 0.01 as we have multiple options"
      ],
      "metadata": {
        "id": "ayTId2xMecHq"
      }
    }
  ]
}